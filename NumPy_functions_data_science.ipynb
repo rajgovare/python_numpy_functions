{
  "cells": [
    {
      "cell_type": "markdown",
      "metadata": {
        "id": "Hn2UaBjf8v4M"
      },
      "source": [
        "# NumPy\n",
        " **NumPy is a Python library used for fast and efficient numerical computations with large datasets. It provides support for multi-dimensional arrays and offers functions for mathematical operations, making it essential for data analysis, machine learning, and scientific computing in data science.**"
      ]
    },
    {
      "cell_type": "code",
      "execution_count": null,
      "metadata": {
        "id": "QFoNcYTx8v4P"
      },
      "outputs": [],
      "source": [
        "import numpy as np\n",
        "import numpy"
      ]
    },
    {
      "cell_type": "code",
      "execution_count": null,
      "metadata": {
        "colab": {
          "base_uri": "https://localhost:8080/"
        },
        "id": "9-MpsKg6alli",
        "outputId": "1e8dcffa-b268-45cb-c278-6d481183aa23"
      },
      "outputs": [
        {
          "name": "stdout",
          "output_type": "stream",
          "text": [
            "[1 2 3]\n"
          ]
        }
      ],
      "source": [
        "x=np.array([1,2,3])\n",
        "print(x)\n"
      ]
    },
    {
      "cell_type": "code",
      "execution_count": null,
      "metadata": {
        "colab": {
          "base_uri": "https://localhost:8080/"
        },
        "id": "lbIIusL4cFBB",
        "outputId": "b17741ce-c12e-4da6-ee63-127fc38efe35"
      },
      "outputs": [
        {
          "name": "stdout",
          "output_type": "stream",
          "text": [
            "<class 'numpy.ndarray'>\n"
          ]
        }
      ],
      "source": [
        "print(type(x))"
      ]
    },
    {
      "cell_type": "code",
      "execution_count": null,
      "metadata": {
        "colab": {
          "base_uri": "https://localhost:8080/"
        },
        "id": "24haYyP4lKqA",
        "outputId": "cc9596e3-68f0-44d7-9f49-410e45d87465"
      },
      "outputs": [
        {
          "name": "stdout",
          "output_type": "stream",
          "text": [
            "[[1 2 3]\n",
            " [4 5 6]]\n"
          ]
        }
      ],
      "source": [
        "b=np.array([[1,2,3],[4,5,6]])\n",
        "print(b)\n"
      ]
    },
    {
      "cell_type": "code",
      "execution_count": null,
      "metadata": {
        "colab": {
          "base_uri": "https://localhost:8080/"
        },
        "id": "2_BNPN6OnYZO",
        "outputId": "17ad1d91-db9c-4bae-b218-dd22488fe372"
      },
      "outputs": [
        {
          "data": {
            "text/plain": [
              "(array([[1, 2, 3],\n",
              "        [4, 5, 6]]),\n",
              " array([1, 2, 3]))"
            ]
          },
          "execution_count": 543,
          "metadata": {},
          "output_type": "execute_result"
        }
      ],
      "source": [
        "b2=np.array([[1,2,3],[4,5,6]])\n",
        "x=np.array([1,2,3])\n",
        "b2,x\n"
      ]
    },
    {
      "cell_type": "code",
      "execution_count": null,
      "metadata": {
        "colab": {
          "base_uri": "https://localhost:8080/"
        },
        "id": "S4UNXJJ3l0l5",
        "outputId": "2d5bde83-d37e-4796-f6b3-e088abf48cc4"
      },
      "outputs": [
        {
          "data": {
            "text/plain": [
              "array([[1., 2., 3.],\n",
              "       [4., 5., 6.]])"
            ]
          },
          "execution_count": 544,
          "metadata": {},
          "output_type": "execute_result"
        }
      ],
      "source": [
        "b=np.array([[1.0,2.0,3.0],[4.0,5.0,6.0]])\n",
        "b"
      ]
    },
    {
      "cell_type": "code",
      "execution_count": null,
      "metadata": {
        "colab": {
          "base_uri": "https://localhost:8080/"
        },
        "id": "iwsPaZYGl7_t",
        "outputId": "aa1d5242-4fc7-44bd-ecaf-569cd5ddbae4"
      },
      "outputs": [
        {
          "name": "stdout",
          "output_type": "stream",
          "text": [
            "[[1.1 2.2 3.5]\n",
            " [4.2 5.3 6.4]]\n"
          ]
        }
      ],
      "source": [
        "b=np.array([[1.1,2.2,3.5],[4.2,5.3,6.4]])\n",
        "print(b)"
      ]
    },
    {
      "cell_type": "code",
      "execution_count": null,
      "metadata": {
        "colab": {
          "base_uri": "https://localhost:8080/"
        },
        "id": "VNgxRT7bmJ9a",
        "outputId": "c39dd9ee-fb8e-4478-e81c-37e36cf5f120"
      },
      "outputs": [
        {
          "name": "stdout",
          "output_type": "stream",
          "text": [
            "[1 4 9]\n"
          ]
        }
      ],
      "source": [
        "x=np.array([1,2,3])\n",
        "y=np.array([1,2,3])\n",
        "print(x*y)"
      ]
    },
    {
      "cell_type": "code",
      "execution_count": null,
      "metadata": {
        "colab": {
          "base_uri": "https://localhost:8080/"
        },
        "id": "ZL_PZyIdmfIw",
        "outputId": "6c21c160-6eb7-44c5-92b8-49d7b44617a6"
      },
      "outputs": [
        {
          "data": {
            "text/plain": [
              "1"
            ]
          },
          "execution_count": 547,
          "metadata": {},
          "output_type": "execute_result"
        }
      ],
      "source": [
        "#Get Dimension(axes)\n",
        "x.ndim"
      ]
    },
    {
      "cell_type": "code",
      "execution_count": null,
      "metadata": {
        "colab": {
          "base_uri": "https://localhost:8080/"
        },
        "id": "C0ypjsrams29",
        "outputId": "e5eddff8-8539-4db9-b1c1-370906b0f7f2"
      },
      "outputs": [
        {
          "data": {
            "text/plain": [
              "2"
            ]
          },
          "execution_count": 548,
          "metadata": {},
          "output_type": "execute_result"
        }
      ],
      "source": [
        "b.ndim\n"
      ]
    },
    {
      "cell_type": "code",
      "execution_count": null,
      "metadata": {
        "colab": {
          "base_uri": "https://localhost:8080/"
        },
        "id": "Obqn8ffUnKvJ",
        "outputId": "41c0f945-dee0-43a1-c064-856de864b515"
      },
      "outputs": [
        {
          "name": "stdout",
          "output_type": "stream",
          "text": [
            "(3,)\n"
          ]
        },
        {
          "data": {
            "text/plain": [
              "3"
            ]
          },
          "execution_count": 549,
          "metadata": {},
          "output_type": "execute_result"
        }
      ],
      "source": [
        "#Get Shape\n",
        "print(x.shape)\n",
        "\n",
        "# Printing size (total number of elements) of array\n",
        "x.size"
      ]
    },
    {
      "cell_type": "code",
      "execution_count": null,
      "metadata": {
        "colab": {
          "base_uri": "https://localhost:8080/"
        },
        "id": "ichSqAv2nQ3A",
        "outputId": "8a7fb778-ee78-4fd3-f8ab-853ec247f1dd"
      },
      "outputs": [
        {
          "name": "stdout",
          "output_type": "stream",
          "text": [
            "(2, 3)\n",
            "6\n"
          ]
        }
      ],
      "source": [
        "print(b.shape)\n",
        "\n",
        "print(b.size)"
      ]
    },
    {
      "cell_type": "code",
      "execution_count": null,
      "metadata": {
        "colab": {
          "base_uri": "https://localhost:8080/"
        },
        "id": "XSZmEcbTn7PG",
        "outputId": "d7cfd9b7-bc74-4b01-ddc1-e084e5bce8df"
      },
      "outputs": [
        {
          "data": {
            "text/plain": [
              "dtype('int32')"
            ]
          },
          "execution_count": 551,
          "metadata": {},
          "output_type": "execute_result"
        }
      ],
      "source": [
        "#Get type\n",
        "x.dtype"
      ]
    },
    {
      "cell_type": "code",
      "execution_count": null,
      "metadata": {
        "colab": {
          "base_uri": "https://localhost:8080/"
        },
        "id": "mgVQXIWvn_39",
        "outputId": "ae09bca4-2058-4911-a686-120b84a77546"
      },
      "outputs": [
        {
          "data": {
            "text/plain": [
              "dtype('float64')"
            ]
          },
          "execution_count": 552,
          "metadata": {},
          "output_type": "execute_result"
        }
      ],
      "source": [
        "b.dtype"
      ]
    },
    {
      "cell_type": "code",
      "execution_count": null,
      "metadata": {
        "colab": {
          "base_uri": "https://localhost:8080/"
        },
        "id": "Ftp4CD2soY5R",
        "outputId": "3ce90dc9-ea9a-4f48-8553-bd9c0e48ec39"
      },
      "outputs": [
        {
          "name": "stdout",
          "output_type": "stream",
          "text": [
            "int32\n"
          ]
        },
        {
          "data": {
            "text/plain": [
              "array([[1, 2, 3],\n",
              "       [4, 5, 6]])"
            ]
          },
          "execution_count": 553,
          "metadata": {},
          "output_type": "execute_result"
        }
      ],
      "source": [
        "b1=np.array([[1,2,3],[4,5,6]])\n",
        "print(b1.dtype)\n",
        "b1"
      ]
    },
    {
      "cell_type": "code",
      "execution_count": null,
      "metadata": {
        "colab": {
          "base_uri": "https://localhost:8080/"
        },
        "id": "ZGHqSkMooh3w",
        "outputId": "6fce5f5d-0224-4a33-b9dd-67b03d92b889"
      },
      "outputs": [
        {
          "name": "stdout",
          "output_type": "stream",
          "text": [
            "float64\n"
          ]
        },
        {
          "data": {
            "text/plain": [
              "array([[1., 2., 3.],\n",
              "       [4., 5., 6.]])"
            ]
          },
          "execution_count": 554,
          "metadata": {},
          "output_type": "execute_result"
        }
      ],
      "source": [
        "# Creating array from list with type float\n",
        "b1=np.array([[1,2,3],[4,5,6]],dtype='float')\n",
        "print(b1.dtype)\n",
        "b1"
      ]
    },
    {
      "cell_type": "code",
      "execution_count": null,
      "metadata": {
        "colab": {
          "base_uri": "https://localhost:8080/"
        },
        "id": "IVjW1h87plEr",
        "outputId": "8708b1ff-0079-46ba-a9cc-ab9e453353e8"
      },
      "outputs": [
        {
          "name": "stdout",
          "output_type": "stream",
          "text": [
            "\n",
            "Array created using passed tuple:\n",
            " [1 2 3]\n",
            "int32\n",
            "(3,)\n",
            "3\n"
          ]
        },
        {
          "data": {
            "text/plain": [
              "array([1, 3, 2])"
            ]
          },
          "execution_count": 555,
          "metadata": {},
          "output_type": "execute_result"
        }
      ],
      "source": [
        "# Creating array from tuple\n",
        "y1=np.array((1,3,2))\n",
        "print(\"\\nArray created using passed tuple:\\n\",y)\n",
        "print(y1.dtype)\n",
        "print(y1.shape)\n",
        "\n",
        "print(y1.size)\n",
        "y1"
      ]
    },
    {
      "cell_type": "code",
      "execution_count": null,
      "metadata": {
        "colab": {
          "base_uri": "https://localhost:8080/"
        },
        "id": "OhZYkwWJqPFX",
        "outputId": "eac411c0-921d-4b83-b3df-9d435b67a8cc"
      },
      "outputs": [
        {
          "name": "stdout",
          "output_type": "stream",
          "text": [
            "[[[ 1  2  3]\n",
            "  [ 4  5  6]]\n",
            "\n",
            " [[ 8  9 10]\n",
            "  [ 4  5  6]]]\n",
            "3\n"
          ]
        }
      ],
      "source": [
        "#Creating a 3-D array\n",
        "arr=np.array([[[1,2,3], [4,5,6]], [[8,9,10], [4,5,6]]])\n",
        "print(arr)\n",
        "print(arr.ndim)\n"
      ]
    },
    {
      "cell_type": "code",
      "execution_count": null,
      "metadata": {
        "colab": {
          "base_uri": "https://localhost:8080/"
        },
        "id": "q9tJJ1hau0n-",
        "outputId": "42bdf722-1de2-4638-d41c-169ca75681af"
      },
      "outputs": [
        {
          "name": "stdout",
          "output_type": "stream",
          "text": [
            "[[[1 2 3]\n",
            "  [4 5 6]\n",
            "  [7 8 9]]]\n",
            "3\n"
          ]
        }
      ],
      "source": [
        "arr1=np.array([[[1,2,3], [4,5,6], [7,8,9]]])\n",
        "print(arr1)\n",
        "print(arr1.ndim)"
      ]
    },
    {
      "cell_type": "code",
      "execution_count": null,
      "metadata": {
        "colab": {
          "base_uri": "https://localhost:8080/"
        },
        "id": "2s225-vWvbh2",
        "outputId": "13344257-b01c-489c-fcea-f0bf7ecf2ca0"
      },
      "outputs": [
        {
          "name": "stdout",
          "output_type": "stream",
          "text": [
            "[[[[1 2 3]\n",
            "   [4 5 6]\n",
            "   [7 8 9]]]]\n",
            "4\n",
            "(1, 1, 3, 3)\n",
            "9\n"
          ]
        }
      ],
      "source": [
        "arr2=np.array([[[[1,2,3], [4,5,6], [7,8,9]]]])\n",
        "print(arr2)\n",
        "print(arr2.ndim)\n",
        "print(arr2.shape)\n",
        "\n",
        "print(arr2.size)"
      ]
    },
    {
      "cell_type": "code",
      "execution_count": null,
      "metadata": {
        "colab": {
          "base_uri": "https://localhost:8080/"
        },
        "id": "4jkLXzxKvjnE",
        "outputId": "535fbeb0-f99e-4b0d-e74d-812cb8be4f17"
      },
      "outputs": [
        {
          "name": "stdout",
          "output_type": "stream",
          "text": [
            "[[[[[[[[[[1 2 3]]]]]]]]]]\n",
            "10\n"
          ]
        }
      ],
      "source": [
        "arr3=np.array([1,2,3],ndmin=10)\n",
        "print(arr3)\n",
        "print(arr3.ndim)"
      ]
    },
    {
      "cell_type": "code",
      "execution_count": null,
      "metadata": {
        "colab": {
          "base_uri": "https://localhost:8080/"
        },
        "id": "Ugw1HY03zclR",
        "outputId": "6dd34cb2-26f1-4c25-d96f-1aefd791e22f"
      },
      "outputs": [
        {
          "data": {
            "text/plain": [
              "array([0., 0., 0., 0.])"
            ]
          },
          "execution_count": 560,
          "metadata": {},
          "output_type": "execute_result"
        }
      ],
      "source": [
        "#INITIALIZING DIFFERENT TYPES OF ARRAYS\n",
        "#All 0s matrix i.e Array filled with O's\n",
        "import numpy as np\n",
        "az=np.zeros(4)\n",
        "az"
      ]
    },
    {
      "cell_type": "code",
      "execution_count": null,
      "metadata": {
        "colab": {
          "base_uri": "https://localhost:8080/"
        },
        "id": "B2UKfn7A0jvy",
        "outputId": "3c3dc19f-43a0-4771-f735-487af6ec349c"
      },
      "outputs": [
        {
          "name": "stdout",
          "output_type": "stream",
          "text": [
            "[[0. 0. 0.]\n",
            " [0. 0. 0.]]\n"
          ]
        }
      ],
      "source": [
        "az1=np.zeros((2,3))\n",
        "print(az1)\n"
      ]
    },
    {
      "cell_type": "code",
      "execution_count": null,
      "metadata": {
        "colab": {
          "base_uri": "https://localhost:8080/"
        },
        "id": "KxNDaBoH16rH",
        "outputId": "a0a43a15-f7de-46a8-a702-8bec90b3ae9f"
      },
      "outputs": [
        {
          "data": {
            "text/plain": [
              "array([1., 1., 1., 1.])"
            ]
          },
          "execution_count": 562,
          "metadata": {},
          "output_type": "execute_result"
        }
      ],
      "source": [
        "#All 1s matrix\n",
        "a1=np.ones(4)\n",
        "a1"
      ]
    },
    {
      "cell_type": "code",
      "execution_count": null,
      "metadata": {
        "colab": {
          "base_uri": "https://localhost:8080/"
        },
        "id": "8Os23UDE2RI-",
        "outputId": "0ce5358a-b751-47ae-86ec-0ba2cb09d331"
      },
      "outputs": [
        {
          "name": "stdout",
          "output_type": "stream",
          "text": [
            "[1 1 1 1]\n"
          ]
        }
      ],
      "source": [
        "a1=np.ones((4),dtype='int32')\n",
        "print(a1)"
      ]
    },
    {
      "cell_type": "code",
      "execution_count": null,
      "metadata": {
        "colab": {
          "base_uri": "https://localhost:8080/"
        },
        "id": "ZLlXTL22DeM8",
        "outputId": "a245784a-8cbb-41ed-f7a3-cf3ad8a8e8f4"
      },
      "outputs": [
        {
          "name": "stdout",
          "output_type": "stream",
          "text": [
            "[1. 1. 1. 1.]\n"
          ]
        }
      ],
      "source": [
        "#empty array\n",
        "ae=np.empty(4)\n",
        "print(ae)"
      ]
    },
    {
      "cell_type": "code",
      "execution_count": null,
      "metadata": {
        "colab": {
          "base_uri": "https://localhost:8080/"
        },
        "id": "XT1S9R9mENtX",
        "outputId": "793a9917-c53a-41d7-d63b-a404d531e4a6"
      },
      "outputs": [
        {
          "name": "stdout",
          "output_type": "stream",
          "text": [
            "[0 1 2]\n"
          ]
        }
      ],
      "source": [
        "ar_rn=np.arange(3)\n",
        "print(ar_rn)\n"
      ]
    },
    {
      "cell_type": "code",
      "execution_count": null,
      "metadata": {
        "colab": {
          "base_uri": "https://localhost:8080/"
        },
        "id": "cTxcGG5uFai8",
        "outputId": "6f39779c-85de-42c7-d878-f2765244ba15"
      },
      "outputs": [
        {
          "data": {
            "text/plain": [
              "array([[1., 0., 0.],\n",
              "       [0., 1., 0.],\n",
              "       [0., 0., 1.]])"
            ]
          },
          "execution_count": 566,
          "metadata": {},
          "output_type": "execute_result"
        }
      ],
      "source": [
        "#Creating an identity matrix ie diagonal element\n",
        "ar_di=np.eye(3)\n",
        "ar_di"
      ]
    },
    {
      "cell_type": "code",
      "execution_count": null,
      "metadata": {
        "colab": {
          "base_uri": "https://localhost:8080/"
        },
        "id": "dAkWkzg-F-dh",
        "outputId": "3c1a222d-5bec-43fd-9489-0c62fa7492ee"
      },
      "outputs": [
        {
          "data": {
            "text/plain": [
              "array([[1., 0., 0., 0., 0.],\n",
              "       [0., 1., 0., 0., 0.],\n",
              "       [0., 0., 1., 0., 0.]])"
            ]
          },
          "execution_count": 567,
          "metadata": {},
          "output_type": "execute_result"
        }
      ],
      "source": [
        "ar_di=np.eye(3,5)\n",
        "ar_di"
      ]
    },
    {
      "cell_type": "code",
      "execution_count": null,
      "metadata": {
        "colab": {
          "base_uri": "https://localhost:8080/"
        },
        "id": "-XjyUWluGHex",
        "outputId": "4c28ce88-f29c-427c-8acd-9dc749fdc4d5"
      },
      "outputs": [
        {
          "data": {
            "text/plain": [
              "array([[1., 0., 0.],\n",
              "       [0., 1., 0.],\n",
              "       [0., 0., 1.]])"
            ]
          },
          "execution_count": 568,
          "metadata": {},
          "output_type": "execute_result"
        }
      ],
      "source": [
        "ar_di=np.identity(3)\n",
        "ar_di"
      ]
    },
    {
      "cell_type": "code",
      "execution_count": null,
      "metadata": {
        "colab": {
          "base_uri": "https://localhost:8080/"
        },
        "id": "6cI3BiJ4GMrV",
        "outputId": "2f91b427-4b6a-4e62-f280-f6a67afc2c80"
      },
      "outputs": [
        {
          "data": {
            "text/plain": [
              "array([[1., 0., 0., 0., 0.],\n",
              "       [0., 1., 0., 0., 0.],\n",
              "       [0., 0., 1., 0., 0.],\n",
              "       [0., 0., 0., 1., 0.],\n",
              "       [0., 0., 0., 0., 1.]])"
            ]
          },
          "execution_count": 569,
          "metadata": {},
          "output_type": "execute_result"
        }
      ],
      "source": [
        "ar_di=np.identity(5)\n",
        "ar_di"
      ]
    },
    {
      "cell_type": "code",
      "execution_count": null,
      "metadata": {
        "colab": {
          "base_uri": "https://localhost:8080/"
        },
        "id": "0tbPTyMiHPvr",
        "outputId": "9729bd55-9b17-4c73-fffe-6b7752f74a89"
      },
      "outputs": [
        {
          "data": {
            "text/plain": [
              "array([0.  , 1.25, 2.5 , 3.75, 5.  ])"
            ]
          },
          "execution_count": 570,
          "metadata": {},
          "output_type": "execute_result"
        }
      ],
      "source": [
        "#linespace\n",
        "ar_lin=np.linspace(0,5,5)  #start, stop, and num\n",
        "ar_lin"
      ]
    },
    {
      "cell_type": "code",
      "execution_count": null,
      "metadata": {
        "colab": {
          "base_uri": "https://localhost:8080/"
        },
        "id": "YuZ55aQtHyx4",
        "outputId": "38957524-87bd-4f2d-b264-b4b3692d9bdc"
      },
      "outputs": [
        {
          "name": "stdout",
          "output_type": "stream",
          "text": [
            "[[99 99]\n",
            " [99 99]]\n"
          ]
        }
      ],
      "source": [
        "#Any other number\n",
        "z2=np.full((2,2),99)\n",
        "print(z2)"
      ]
    },
    {
      "cell_type": "code",
      "execution_count": null,
      "metadata": {
        "colab": {
          "base_uri": "https://localhost:8080/"
        },
        "id": "Xd7f8imAH6Z0",
        "outputId": "86bfa56b-cebc-42ed-c6a5-241df65587e3"
      },
      "outputs": [
        {
          "data": {
            "text/plain": [
              "array([4., 4., 4., 4.])"
            ]
          },
          "execution_count": 572,
          "metadata": {},
          "output_type": "execute_result"
        }
      ],
      "source": [
        "np.full_like(ae,4)"
      ]
    },
    {
      "cell_type": "code",
      "execution_count": null,
      "metadata": {
        "colab": {
          "base_uri": "https://localhost:8080/"
        },
        "id": "P6Ltt9LWIWUw",
        "outputId": "2ea73455-d22f-4de8-fb4d-8df75439a37b"
      },
      "outputs": [
        {
          "data": {
            "text/plain": [
              "array([0.34663778, 0.49555288, 0.45898534, 0.98528205])"
            ]
          },
          "execution_count": 573,
          "metadata": {},
          "output_type": "execute_result"
        }
      ],
      "source": [
        "#Random decimal numbers using rand() values would be in range of 0 to 1\n",
        "var=np.random.rand(4)\n",
        "var"
      ]
    },
    {
      "cell_type": "code",
      "execution_count": null,
      "metadata": {
        "colab": {
          "base_uri": "https://localhost:8080/"
        },
        "id": "MIeuBm6mIosm",
        "outputId": "1c917649-6fd4-4d22-ed48-a0edf238be49"
      },
      "outputs": [
        {
          "data": {
            "text/plain": [
              "array([[0.8482369 , 0.64756931],\n",
              "       [0.05158717, 0.66389716],\n",
              "       [0.81715713, 0.10385025],\n",
              "       [0.29264394, 0.54330611]])"
            ]
          },
          "execution_count": 574,
          "metadata": {},
          "output_type": "execute_result"
        }
      ],
      "source": [
        "var=np.random.rand(4,2)\n",
        "var"
      ]
    },
    {
      "cell_type": "code",
      "execution_count": null,
      "metadata": {
        "colab": {
          "base_uri": "https://localhost:8080/"
        },
        "id": "1ubBBr-aJEnH",
        "outputId": "0674d2f9-90ef-4db7-965d-e805157f907d"
      },
      "outputs": [
        {
          "data": {
            "text/plain": [
              "array([[3, 1, 3],\n",
              "       [3, 4, 4],\n",
              "       [6, 1, 4]])"
            ]
          },
          "execution_count": 575,
          "metadata": {},
          "output_type": "execute_result"
        }
      ],
      "source": [
        "#Random integer values by specifying a given range eg:7\n",
        "np.random.randint(7,size=(3,3))"
      ]
    },
    {
      "cell_type": "code",
      "execution_count": null,
      "metadata": {
        "colab": {
          "base_uri": "https://localhost:8080/"
        },
        "id": "d5Fn37UiLKdk",
        "outputId": "75fb71a5-08b1-4717-e481-d88201694a2f"
      },
      "outputs": [
        {
          "data": {
            "text/plain": [
              "array([[[11, 14,  5],\n",
              "        [ 5, 10,  8]],\n",
              "\n",
              "       [[12,  0,  6],\n",
              "        [-1,  5, 11]]])"
            ]
          },
          "execution_count": 576,
          "metadata": {},
          "output_type": "execute_result"
        }
      ],
      "source": [
        "#Random integer values by specifying a range eg -1,15\n",
        "np.random.randint(-1,15,size=(2,2,3))"
      ]
    },
    {
      "cell_type": "code",
      "execution_count": null,
      "metadata": {
        "colab": {
          "base_uri": "https://localhost:8080/"
        },
        "id": "mIMSMii3LdFX",
        "outputId": "7df853fd-8d44-425b-deca-53b60df57972"
      },
      "outputs": [
        {
          "data": {
            "text/plain": [
              "array([-1, -1,  0,  4,  8])"
            ]
          },
          "execution_count": 577,
          "metadata": {},
          "output_type": "execute_result"
        }
      ],
      "source": [
        "np.random.randint(-1,10,5)"
      ]
    },
    {
      "cell_type": "code",
      "execution_count": null,
      "metadata": {
        "colab": {
          "base_uri": "https://localhost:8080/"
        },
        "id": "l673h02XJ3Hd",
        "outputId": "50e81854-2e8f-40c2-fa7c-08a1c645c7b5"
      },
      "outputs": [
        {
          "data": {
            "text/plain": [
              "array([[ 0.40822868, -0.29487849],\n",
              "       [ 0.05678148,  0.00944403],\n",
              "       [-0.1616103 , -0.33035289],\n",
              "       [-1.00078035,  1.22240752]])"
            ]
          },
          "execution_count": 578,
          "metadata": {},
          "output_type": "execute_result"
        }
      ],
      "source": [
        "#randn() may return positive or negative numbers as well\n",
        "var=np.random.randn(4,2)\n",
        "var"
      ]
    },
    {
      "cell_type": "code",
      "execution_count": null,
      "metadata": {
        "colab": {
          "base_uri": "https://localhost:8080/"
        },
        "id": "18q1AHUFKIkO",
        "outputId": "6a496674-8eaf-40f8-c4ef-b6910947e84b"
      },
      "outputs": [
        {
          "data": {
            "text/plain": [
              "array([0.96488757, 0.38307043, 0.1432481 , 0.2047709 ])"
            ]
          },
          "execution_count": 579,
          "metadata": {},
          "output_type": "execute_result"
        }
      ],
      "source": [
        "#ranf() in the half open interval [0.0, 1.0]\n",
        "var3=np.random.ranf(4)\n",
        "var3"
      ]
    },
    {
      "cell_type": "code",
      "execution_count": null,
      "metadata": {
        "colab": {
          "base_uri": "https://localhost:8080/"
        },
        "id": "vvh0GPJ2L-w8",
        "outputId": "07cd1c6e-323b-4fc5-8cc0-7d53535532d8"
      },
      "outputs": [
        {
          "data": {
            "text/plain": [
              "array([0.3546019 , 0.58414577, 0.51341981, 0.56445753, 0.28744853])"
            ]
          },
          "execution_count": 580,
          "metadata": {},
          "output_type": "execute_result"
        }
      ],
      "source": [
        "#Random decimal numbers from an existing shape of an array\n",
        "np.random.random_sample(ar_lin.shape)"
      ]
    },
    {
      "cell_type": "code",
      "execution_count": null,
      "metadata": {
        "colab": {
          "base_uri": "https://localhost:8080/"
        },
        "id": "nkWbXVmRDYGh",
        "outputId": "2bc795b1-6340-429f-bf31-1e6b2dff9811"
      },
      "outputs": [
        {
          "data": {
            "text/plain": [
              "dtype('int32')"
            ]
          },
          "execution_count": 581,
          "metadata": {},
          "output_type": "execute_result"
        }
      ],
      "source": [
        "#data types\n",
        "var=np.array([1,2,3,4])\n",
        "var.dtype"
      ]
    },
    {
      "cell_type": "code",
      "execution_count": null,
      "metadata": {
        "colab": {
          "base_uri": "https://localhost:8080/"
        },
        "id": "QjulMAqPEEC6",
        "outputId": "9b7ebe66-62a4-40a9-d87c-6da651effeee"
      },
      "outputs": [
        {
          "data": {
            "text/plain": [
              "dtype('float64')"
            ]
          },
          "execution_count": 582,
          "metadata": {},
          "output_type": "execute_result"
        }
      ],
      "source": [
        "var=np.array([1.1,2.1,3.2,4.2])\n",
        "var.dtype"
      ]
    },
    {
      "cell_type": "code",
      "execution_count": null,
      "metadata": {
        "colab": {
          "base_uri": "https://localhost:8080/"
        },
        "id": "cdtkQ2bsEP8C",
        "outputId": "12ba1e70-5e51-4bb5-8754-2387782cd6f3"
      },
      "outputs": [
        {
          "data": {
            "text/plain": [
              "dtype('<U1')"
            ]
          },
          "execution_count": 583,
          "metadata": {},
          "output_type": "execute_result"
        }
      ],
      "source": [
        "var=np.array([\"a\",\"b\",\"c\",\"d\"])\n",
        "var.dtype"
      ]
    },
    {
      "cell_type": "code",
      "execution_count": null,
      "metadata": {
        "colab": {
          "base_uri": "https://localhost:8080/"
        },
        "id": "zAr161ygEWkL",
        "outputId": "b3b4cf36-61eb-445f-9ce0-82acb5d312f5"
      },
      "outputs": [
        {
          "data": {
            "text/plain": [
              "dtype('<U5')"
            ]
          },
          "execution_count": 584,
          "metadata": {},
          "output_type": "execute_result"
        }
      ],
      "source": [
        "var=np.array([\"abc\",\"b1\",\"ca\",\"dedwa\"])\n",
        "var.dtype"
      ]
    },
    {
      "cell_type": "code",
      "execution_count": null,
      "metadata": {
        "colab": {
          "base_uri": "https://localhost:8080/"
        },
        "id": "s-Hcci01Elg9",
        "outputId": "a94b30ef-cead-41ab-cf35-79481f66431f"
      },
      "outputs": [
        {
          "data": {
            "text/plain": [
              "dtype('int8')"
            ]
          },
          "execution_count": 585,
          "metadata": {},
          "output_type": "execute_result"
        }
      ],
      "source": [
        "var=np.array([1,2,3,4], dtype=np.int8)\n",
        "var.dtype"
      ]
    },
    {
      "cell_type": "code",
      "execution_count": null,
      "metadata": {
        "colab": {
          "base_uri": "https://localhost:8080/"
        },
        "id": "S8VfT909EeHU",
        "outputId": "7b2c5c6f-5de9-44e8-ed37-27fa52843c15"
      },
      "outputs": [
        {
          "data": {
            "text/plain": [
              "dtype('float16')"
            ]
          },
          "execution_count": 586,
          "metadata": {},
          "output_type": "execute_result"
        }
      ],
      "source": [
        "var=np.array([1,2,3,4], dtype=np.float16)\n",
        "var.dtype"
      ]
    },
    {
      "cell_type": "code",
      "execution_count": null,
      "metadata": {
        "colab": {
          "base_uri": "https://localhost:8080/"
        },
        "id": "ChjG8oBKFIEj",
        "outputId": "b18c32b6-b637-42ff-b09a-2f8c5606a52e"
      },
      "outputs": [
        {
          "data": {
            "text/plain": [
              "dtype('float32')"
            ]
          },
          "execution_count": 587,
          "metadata": {},
          "output_type": "execute_result"
        }
      ],
      "source": [
        "var=np.array([1,2,3,4], dtype=\"f\")\n",
        "var.dtype"
      ]
    },
    {
      "cell_type": "code",
      "execution_count": null,
      "metadata": {
        "colab": {
          "base_uri": "https://localhost:8080/"
        },
        "id": "YVL7UcO7FPgx",
        "outputId": "4f442acc-5053-4c24-9dcf-d0c403007130"
      },
      "outputs": [
        {
          "name": "stdout",
          "output_type": "stream",
          "text": [
            "int32\n",
            "float32\n",
            "int64\n",
            "[1 2 3 4]\n"
          ]
        }
      ],
      "source": [
        "#using data type as function\n",
        "var=np.array([1,2,3,4])\n",
        "new=np.float32(var)\n",
        "print(var.dtype)\n",
        "print(new.dtype)\n",
        "new1=np.int64(new)\n",
        "print(new1.dtype)\n",
        "print(new1)"
      ]
    },
    {
      "cell_type": "code",
      "execution_count": null,
      "metadata": {
        "colab": {
          "base_uri": "https://localhost:8080/"
        },
        "id": "GzMdorvQHcpP",
        "outputId": "40ac3f82-5ab7-41fa-dff9-2d889e3b9195"
      },
      "outputs": [
        {
          "name": "stdout",
          "output_type": "stream",
          "text": [
            "[3 4 5 6]\n"
          ]
        },
        {
          "data": {
            "text/plain": [
              "array([-1,  0,  1,  2])"
            ]
          },
          "execution_count": 589,
          "metadata": {},
          "output_type": "execute_result"
        }
      ],
      "source": [
        "#Arithemtic Operation\n",
        "a=np.array([1,2,3,4])\n",
        "a1=a+2\n",
        "print(a1)\n",
        "a-2"
      ]
    },
    {
      "cell_type": "code",
      "execution_count": null,
      "metadata": {
        "colab": {
          "base_uri": "https://localhost:8080/"
        },
        "id": "fzWwP40kIO9k",
        "outputId": "a07f8ba7-076d-49b4-b28f-1f3e036a8c97"
      },
      "outputs": [
        {
          "data": {
            "text/plain": [
              "array([2, 4, 6, 8])"
            ]
          },
          "execution_count": 590,
          "metadata": {},
          "output_type": "execute_result"
        }
      ],
      "source": [
        "a*2"
      ]
    },
    {
      "cell_type": "code",
      "execution_count": null,
      "metadata": {
        "colab": {
          "base_uri": "https://localhost:8080/"
        },
        "id": "DtbHFFh8IVId",
        "outputId": "163495f3-64ea-4696-d4f9-4e1b5f5a6e76"
      },
      "outputs": [
        {
          "data": {
            "text/plain": [
              "array([0.5, 1. , 1.5, 2. ])"
            ]
          },
          "execution_count": 591,
          "metadata": {},
          "output_type": "execute_result"
        }
      ],
      "source": [
        "a/2"
      ]
    },
    {
      "cell_type": "code",
      "execution_count": null,
      "metadata": {
        "colab": {
          "base_uri": "https://localhost:8080/"
        },
        "id": "XxIc6YEAIgsd",
        "outputId": "df55db74-0090-4216-f7a6-a70bc1a2fdab"
      },
      "outputs": [
        {
          "data": {
            "text/plain": [
              "array([1, 0, 1, 0], dtype=int32)"
            ]
          },
          "execution_count": 592,
          "metadata": {},
          "output_type": "execute_result"
        }
      ],
      "source": [
        "a%2"
      ]
    },
    {
      "cell_type": "code",
      "execution_count": null,
      "metadata": {
        "colab": {
          "base_uri": "https://localhost:8080/"
        },
        "id": "SYoTXVjIIlWS",
        "outputId": "c5a1d38e-ca10-4d35-d4d2-64e888cc6fa8"
      },
      "outputs": [
        {
          "data": {
            "text/plain": [
              "array([ 1,  4,  9, 16])"
            ]
          },
          "execution_count": 593,
          "metadata": {},
          "output_type": "execute_result"
        }
      ],
      "source": [
        "a**2"
      ]
    },
    {
      "cell_type": "code",
      "execution_count": null,
      "metadata": {
        "colab": {
          "base_uri": "https://localhost:8080/"
        },
        "id": "vw2cpKRYIz5n",
        "outputId": "95019b48-36d7-4b19-8b67-f7c1dbf44d41"
      },
      "outputs": [
        {
          "name": "stdout",
          "output_type": "stream",
          "text": [
            "Add [5 5 5 5]\n",
            "sub [-3 -1  1  3]\n"
          ]
        }
      ],
      "source": [
        "a=np.array([1,2,3,4])\n",
        "b=np.array([4,3,2,1])\n",
        "print(\"Add\", a+b)\n",
        "print(\"sub\",a-b)"
      ]
    },
    {
      "cell_type": "code",
      "execution_count": null,
      "metadata": {
        "colab": {
          "base_uri": "https://localhost:8080/"
        },
        "id": "eRKD0yDdJOdh",
        "outputId": "ffa8bb72-9d8b-40d3-81dd-e88edd399586"
      },
      "outputs": [
        {
          "name": "stdout",
          "output_type": "stream",
          "text": [
            "[4 6 6 4]\n",
            "[0.25       0.66666667 1.5        4.        ]\n"
          ]
        }
      ],
      "source": [
        "a=np.array([1,2,3,4])\n",
        "b=np.array([4,3,2,1])\n",
        "c=np.multiply(a,b)\n",
        "print(c)\n",
        "c=np.divide(a,b)\n",
        "print(c)\n"
      ]
    },
    {
      "cell_type": "code",
      "execution_count": null,
      "metadata": {
        "colab": {
          "base_uri": "https://localhost:8080/"
        },
        "id": "sIkVM6yhJ6-A",
        "outputId": "0b5aec68-314e-45fc-db17-8b67c5acdd2d"
      },
      "outputs": [
        {
          "name": "stdout",
          "output_type": "stream",
          "text": [
            "[[3 4 5 6]\n",
            " [3 4 5 6]]\n"
          ]
        }
      ],
      "source": [
        "a=np.array([[1,2,3,4],[1,2,3,4]])\n",
        "a1=a+2\n",
        "print(a1)"
      ]
    },
    {
      "cell_type": "code",
      "execution_count": null,
      "metadata": {
        "colab": {
          "base_uri": "https://localhost:8080/"
        },
        "id": "nzGorU1HKMHc",
        "outputId": "25c2d453-818c-4d1f-b8ce-721872157116"
      },
      "outputs": [
        {
          "name": "stdout",
          "output_type": "stream",
          "text": [
            "[[12 14 16 18]\n",
            " [22 24 26 28]]\n"
          ]
        }
      ],
      "source": [
        "a=np.array([[1,2,3,4],[1,2,3,4]])\n",
        "a1=np.array([[11,12,13,14],[21,22,23,24]])\n",
        "a2=a+a1\n",
        "print(a2)"
      ]
    },
    {
      "cell_type": "code",
      "execution_count": null,
      "metadata": {
        "colab": {
          "base_uri": "https://localhost:8080/"
        },
        "id": "DnvYjV9BGaZf",
        "outputId": "3857eb3a-ee2d-487c-b1f2-280c2c652446"
      },
      "outputs": [
        {
          "name": "stdout",
          "output_type": "stream",
          "text": [
            "min:  1\n",
            "max:  4\n"
          ]
        }
      ],
      "source": [
        "#Arithmetic Functions\n",
        "a=np.array([1,2,3,4])\n",
        "print(\"min: \",np.min(a))\n",
        "print(\"max: \",np.max(a))"
      ]
    },
    {
      "cell_type": "code",
      "execution_count": null,
      "metadata": {
        "colab": {
          "base_uri": "https://localhost:8080/"
        },
        "id": "HyiLOsIiGVzZ",
        "outputId": "57052252-fd60-4f3c-c55e-f419994daf74"
      },
      "outputs": [
        {
          "name": "stdout",
          "output_type": "stream",
          "text": [
            "min:  1 0\n",
            "max:  4 3\n"
          ]
        }
      ],
      "source": [
        "a=np.array([1,2,3,4])\n",
        "print(\"min: \",np.min(a),np.argmin(a))   #Returns the indices of the minimum values along an axis\n",
        "print(\"max: \",np.max(a),np.argmax(a))"
      ]
    },
    {
      "cell_type": "code",
      "execution_count": null,
      "metadata": {
        "colab": {
          "base_uri": "https://localhost:8080/"
        },
        "id": "fKhSqnTqHBax",
        "outputId": "51c91a2f-2b31-4311-cd2f-4d01f37c1eeb"
      },
      "outputs": [
        {
          "name": "stdout",
          "output_type": "stream",
          "text": [
            "min:  11 0\n",
            "max:  24 7\n"
          ]
        }
      ],
      "source": [
        "a1=np.array([[11,12,13,14],[21,22,11,24]])\n",
        "print(\"min: \",np.min(a1),np.argmin(a1))\n",
        "print(\"max: \",np.max(a1),np.argmax(a1))"
      ]
    },
    {
      "cell_type": "code",
      "execution_count": null,
      "metadata": {
        "colab": {
          "base_uri": "https://localhost:8080/"
        },
        "id": "GplB7JXhId85",
        "outputId": "fb3a474a-e4b9-4ccd-85af-8aecedaf6350"
      },
      "outputs": [
        {
          "name": "stdout",
          "output_type": "stream",
          "text": [
            "[[[ 0 12 13 14]\n",
            "  [21 22 11 24]]\n",
            "\n",
            " [[ 1  2 14 20]\n",
            "  [25 26 11  2]]]\n",
            "\n",
            "min:  [[ 0  2 13 14]\n",
            " [21 22 11  2]]\n",
            "\n",
            "max:  [[21 22 13 24]\n",
            " [25 26 14 20]]\n",
            "min:  [[ 0 11]\n",
            " [ 1  2]]\n"
          ]
        }
      ],
      "source": [
        "#axis 0= cols, axis 1= rows\n",
        "a1=np.array([[[0,12,13,14],[21,22,11,24]],[[1,2,14,20],[25,26,11,2]]])\n",
        "print(a1)\n",
        "print()\n",
        "print(\"min: \",np.min(a1,axis=0))\n",
        "print()\n",
        "print(\"max: \",np.max(a1,axis=1))\n",
        "print(\"min: \",np.min(a1,axis=2))"
      ]
    },
    {
      "cell_type": "code",
      "execution_count": null,
      "metadata": {
        "colab": {
          "base_uri": "https://localhost:8080/"
        },
        "id": "x9OCsxVk57o_",
        "outputId": "34c5fc1f-e914-41e3-ec45-2ef61ecae9f2"
      },
      "outputs": [
        {
          "name": "stdout",
          "output_type": "stream",
          "text": [
            "[[[40 12 13 14]\n",
            "  [21 22 11 24]\n",
            "  [25 26 11  2]]]\n",
            "\n",
            "min:  [[40 12 13 14]\n",
            " [21 22 11 24]\n",
            " [25 26 11  2]]\n",
            "\n",
            "max:  [[40 26 13 24]]\n",
            "min:  [[12 11  2]]\n"
          ]
        }
      ],
      "source": [
        "#axis 0= cols, axis 1= rows\n",
        "a1=np.array([[[40,12,13,14],[21,22,11,24],[25,26,11,2]]])\n",
        "print(a1)\n",
        "print()\n",
        "print(\"min: \",np.min(a1,axis=0))\n",
        "print()\n",
        "print(\"max: \",np.max(a1,axis=1))\n",
        "print(\"min: \",np.min(a1,axis=2))"
      ]
    },
    {
      "cell_type": "code",
      "execution_count": null,
      "metadata": {
        "colab": {
          "base_uri": "https://localhost:8080/"
        },
        "id": "PP1TJYJ5H3DW",
        "outputId": "ef127482-6411-4dd2-96f0-7a18f8e9eec7"
      },
      "outputs": [
        {
          "name": "stdout",
          "output_type": "stream",
          "text": [
            "min:  [11 12 11 14] [0 0 1 0]\n",
            "max:  [14 24] [3 3]\n"
          ]
        }
      ],
      "source": [
        "a1=np.array([[11,12,13,14],[21,22,11,24]])\n",
        "print(\"min: \",np.min(a1,axis=0),np.argmin(a1, axis=0))\n",
        "print(\"max: \",np.max(a1,axis=1),np.argmax(a1, axis=1))"
      ]
    },
    {
      "cell_type": "code",
      "execution_count": null,
      "metadata": {
        "colab": {
          "base_uri": "https://localhost:8080/"
        },
        "id": "OGYt7is-IwZS",
        "outputId": "1a87caeb-6bba-4e16-d3f8-14fb4ff28082"
      },
      "outputs": [
        {
          "name": "stdout",
          "output_type": "stream",
          "text": [
            "Square root:  [[2.         3.46410162 3.60555128 4.        ]\n",
            " [5.         4.69041576 3.31662479 4.89897949]]\n"
          ]
        }
      ],
      "source": [
        "a1=np.array([[4,12,13,16],[25,22,11,24]])\n",
        "print(\"Square root: \",np.sqrt(a1))"
      ]
    },
    {
      "cell_type": "code",
      "execution_count": null,
      "metadata": {
        "colab": {
          "base_uri": "https://localhost:8080/"
        },
        "id": "88Ddj-SCI7jY",
        "outputId": "2fe404ee-a692-4314-dc50-8823be5066d8"
      },
      "outputs": [
        {
          "name": "stdout",
          "output_type": "stream",
          "text": [
            "Sin:  [[-0.99999021 -0.53657292  0.42016704  0.99060736]\n",
            " [ 0.83665564 -0.00885131 -0.99999021 -0.90557836]]\n"
          ]
        }
      ],
      "source": [
        "a1=np.array([[11,12,13,14],[21,22,11,24]])\n",
        "print(\"Sin: \",np.sin(a1))"
      ]
    },
    {
      "cell_type": "code",
      "execution_count": null,
      "metadata": {
        "colab": {
          "base_uri": "https://localhost:8080/"
        },
        "id": "3qGmjRLsJTQ6",
        "outputId": "f25c1136-a717-40cb-93c6-44150b74c20d"
      },
      "outputs": [
        {
          "name": "stdout",
          "output_type": "stream",
          "text": [
            "Cos:  [[ 0.0044257   0.84385396  0.90744678  0.13673722]\n",
            " [-0.54772926 -0.99996083  0.0044257   0.42417901]]\n"
          ]
        }
      ],
      "source": [
        "a1=np.array([[11,12,13,14],[21,22,11,24]])\n",
        "print(\"Cos: \",np.cos(a1))"
      ]
    },
    {
      "cell_type": "code",
      "execution_count": null,
      "metadata": {
        "colab": {
          "base_uri": "https://localhost:8080/"
        },
        "id": "OM0b4SsnJaWo",
        "outputId": "2afb30ba-b73b-42cd-f6ef-0c374cd02f16"
      },
      "outputs": [
        {
          "name": "stdout",
          "output_type": "stream",
          "text": [
            "Cumulative Sum [ 1  3  6 10]\n"
          ]
        }
      ],
      "source": [
        "a=np.array([1,2,3,4])\n",
        "print(\"Cumulative Sum\", np.cumsum(a))"
      ]
    },
    {
      "cell_type": "code",
      "execution_count": null,
      "metadata": {
        "colab": {
          "base_uri": "https://localhost:8080/"
        },
        "id": "8exioQEcJmoc",
        "outputId": "798b71dd-6965-4fbc-d967-40d23406c443"
      },
      "outputs": [
        {
          "name": "stdout",
          "output_type": "stream",
          "text": [
            "Cumulative Sum [ 11  23  36  50  71  93 104 128]\n"
          ]
        }
      ],
      "source": [
        "a1=np.array([[11,12,13,14],[21,22,11,24]])\n",
        "print(\"Cumulative Sum\", np.cumsum(a1))"
      ]
    },
    {
      "cell_type": "markdown",
      "metadata": {
        "id": "yIHQA6jl9jm4"
      },
      "source": [
        "**Linear Algebra**"
      ]
    },
    {
      "cell_type": "code",
      "execution_count": null,
      "metadata": {
        "colab": {
          "base_uri": "https://localhost:8080/"
        },
        "id": "dZLhJ5Yn9rUr",
        "outputId": "2fef988a-bf05-4b70-93f5-400fdf9ca4c8"
      },
      "outputs": [
        {
          "name": "stdout",
          "output_type": "stream",
          "text": [
            "[[1. 1. 1.]\n",
            " [1. 1. 1.]]\n",
            "[[2 2]\n",
            " [2 2]\n",
            " [2 2]]\n"
          ]
        },
        {
          "data": {
            "text/plain": [
              "array([[6., 6.],\n",
              "       [6., 6.]])"
            ]
          },
          "execution_count": 609,
          "metadata": {},
          "output_type": "execute_result"
        }
      ],
      "source": [
        "#Matrix multiplication\n",
        "a=np.ones((2,3))\n",
        "print(a)\n",
        "b=np.full((3,2),2)\n",
        "print(b)\n",
        "np.matmul(a,b)"
      ]
    },
    {
      "cell_type": "code",
      "execution_count": null,
      "metadata": {
        "colab": {
          "base_uri": "https://localhost:8080/"
        },
        "id": "yQjphzNr9_Nt",
        "outputId": "7014408b-4aa1-4123-e147-5e772d88a42e"
      },
      "outputs": [
        {
          "name": "stdout",
          "output_type": "stream",
          "text": [
            "[[1. 0. 0.]\n",
            " [0. 1. 0.]\n",
            " [0. 0. 1.]]\n"
          ]
        },
        {
          "data": {
            "text/plain": [
              "1.0"
            ]
          },
          "execution_count": 610,
          "metadata": {},
          "output_type": "execute_result"
        }
      ],
      "source": [
        "#Calculating the determinant of a matrix\n",
        "c=np.identity(3)\n",
        "print(c)\n",
        "np.linalg.det(c)\n"
      ]
    },
    {
      "cell_type": "code",
      "execution_count": null,
      "metadata": {
        "colab": {
          "base_uri": "https://localhost:8080/"
        },
        "id": "-x4F88Y_-MsV",
        "outputId": "25615d5c-4d45-4439-8ab4-342e12d87809"
      },
      "outputs": [
        {
          "name": "stdout",
          "output_type": "stream",
          "text": [
            "[[1 2 3]\n",
            " [3 2 1]\n",
            " [2 1 3]]\n"
          ]
        },
        {
          "data": {
            "text/plain": [
              "-12.000000000000005"
            ]
          },
          "execution_count": 611,
          "metadata": {},
          "output_type": "execute_result"
        }
      ],
      "source": [
        "#Calculating the determinant of a matrix\n",
        "c=np.array([[1,2,3],[3,2,1],[2,1,3]])\n",
        "print(c)\n",
        "np.linalg.det(c)\n"
      ]
    },
    {
      "cell_type": "code",
      "execution_count": null,
      "metadata": {
        "colab": {
          "base_uri": "https://localhost:8080/"
        },
        "id": "b27pS0FSIbk5",
        "outputId": "cc02ff7f-b8a7-4da2-e0f9-6303d76d87fc"
      },
      "outputs": [
        {
          "data": {
            "text/plain": [
              "array([ 6.        , -1.41421356,  1.41421356])"
            ]
          },
          "execution_count": 612,
          "metadata": {},
          "output_type": "execute_result"
        }
      ],
      "source": [
        "#Compute the eigenvalues of a general matrix\n",
        "np.linalg.eigvals(c)\n",
        "\n"
      ]
    },
    {
      "cell_type": "markdown",
      "metadata": {
        "id": "WykCdQ8NJhQA"
      },
      "source": [
        "**Statistics**"
      ]
    },
    {
      "cell_type": "code",
      "execution_count": null,
      "metadata": {
        "colab": {
          "base_uri": "https://localhost:8080/"
        },
        "id": "8viIFQUAJi5O",
        "outputId": "d5ca6553-4e8d-44aa-f11f-94067158dd66"
      },
      "outputs": [
        {
          "data": {
            "text/plain": [
              "array([[1, 2, 3],\n",
              "       [4, 5, 6]])"
            ]
          },
          "execution_count": 613,
          "metadata": {},
          "output_type": "execute_result"
        }
      ],
      "source": [
        "stats = np.array([[1,2,3],[4,5,6]])\n",
        "stats\n"
      ]
    },
    {
      "cell_type": "code",
      "execution_count": null,
      "metadata": {
        "colab": {
          "base_uri": "https://localhost:8080/"
        },
        "id": "SMe-nBsxJoB6",
        "outputId": "62e48e33-5195-4df6-8a77-06840d38dd9f"
      },
      "outputs": [
        {
          "data": {
            "text/plain": [
              "6"
            ]
          },
          "execution_count": 614,
          "metadata": {},
          "output_type": "execute_result"
        }
      ],
      "source": [
        "np.max(stats)"
      ]
    },
    {
      "cell_type": "code",
      "execution_count": null,
      "metadata": {
        "colab": {
          "base_uri": "https://localhost:8080/"
        },
        "id": "arSB4uCiJs03",
        "outputId": "d5c9d8e2-31cf-469a-b836-43c35faf1db9"
      },
      "outputs": [
        {
          "data": {
            "text/plain": [
              "array([4, 5, 6])"
            ]
          },
          "execution_count": 615,
          "metadata": {},
          "output_type": "execute_result"
        }
      ],
      "source": [
        "#0=column, 1=row(3,6)\n",
        "np.max(stats, axis=0)\n"
      ]
    },
    {
      "cell_type": "code",
      "execution_count": null,
      "metadata": {
        "colab": {
          "base_uri": "https://localhost:8080/"
        },
        "id": "4GqaBZAGJ0GX",
        "outputId": "b4a0dae2-bf2c-4f1d-de19-73fa1722b57a"
      },
      "outputs": [
        {
          "data": {
            "text/plain": [
              "array([ 6, 15])"
            ]
          },
          "execution_count": 616,
          "metadata": {},
          "output_type": "execute_result"
        }
      ],
      "source": [
        "np.sum(stats, axis=1)\n"
      ]
    },
    {
      "cell_type": "code",
      "execution_count": null,
      "metadata": {
        "colab": {
          "base_uri": "https://localhost:8080/"
        },
        "id": "CnSqT1Id3vKa",
        "outputId": "7f279d6b-fc84-4173-9543-29c5d4c85989"
      },
      "outputs": [
        {
          "name": "stdout",
          "output_type": "stream",
          "text": [
            "[[[1 2 3]\n",
            "  [4 5 6]\n",
            "  [7 8 9]]]\n",
            "\n",
            "[[1 2 3]\n",
            " [4 5 6]\n",
            " [7 8 9]]\n",
            "\n",
            "[[12 15 18]]\n",
            "\n",
            "[[ 6 15 24]]\n"
          ]
        }
      ],
      "source": [
        "# 3D array\n",
        "array_3d = np.array([[[1, 2, 3], [4, 5, 6], [7, 8, 9]]])\n",
        "print(array_3d)\n",
        "print()\n",
        "# Sum over axis 0\n",
        "sum_axis0 = np.sum(array_3d, axis=0)\n",
        "print(sum_axis0)\n",
        "print()\n",
        "# Sum over axis 1\n",
        "sum_axis1 = np.sum(array_3d, axis=1)\n",
        "print(sum_axis1)\n",
        "print()\n",
        "# Sum over axis 2\n",
        "sum_axis2 = np.sum(array_3d, axis=2)\n",
        "print(sum_axis2)"
      ]
    },
    {
      "cell_type": "code",
      "execution_count": null,
      "metadata": {
        "colab": {
          "base_uri": "https://localhost:8080/"
        },
        "id": "Ccn9Qqdx6NXk",
        "outputId": "01dc4715-7108-4eb2-8efe-3ac96076b6ae"
      },
      "outputs": [
        {
          "name": "stdout",
          "output_type": "stream",
          "text": [
            "[[[1 2 3]\n",
            "  [4 5 6]]\n",
            "\n",
            " [[7 8 9]\n",
            "  [0 0 0]]] \n",
            "\n",
            "sum [[ 8 10 12]\n",
            " [ 4  5  6]]\n",
            "\n",
            "[[5 7 9]\n",
            " [7 8 9]]\n",
            "\n",
            "[[ 6 15]\n",
            " [24  0]]\n"
          ]
        }
      ],
      "source": [
        "# 3D array\n",
        "array_3d = np.array([[[1, 2, 3], [4, 5, 6]], [[7, 8, 9],[0,0,0]]])\n",
        "print(array_3d,\"\\n\")\n",
        "\n",
        "# Sum over axis 0\n",
        "sum_axis0 = np.sum(array_3d, axis=0)\n",
        "print(\"sum\",sum_axis0)\n",
        "print()\n",
        "# Sum over axis 1\n",
        "sum_axis1 = np.sum(array_3d, axis=1)\n",
        "print(sum_axis1)\n",
        "print()\n",
        "# Sum over axis 2\n",
        "sum_axis2 = np.sum(array_3d, axis=2)\n",
        "print(sum_axis2)"
      ]
    },
    {
      "cell_type": "markdown",
      "metadata": {
        "id": "Fd2EC75lK92U"
      },
      "source": [
        "**Shape &** **Reshape**"
      ]
    },
    {
      "cell_type": "code",
      "execution_count": null,
      "metadata": {
        "colab": {
          "base_uri": "https://localhost:8080/"
        },
        "id": "VnQUb6lyK_iT",
        "outputId": "d0c39bf4-3a5b-4746-f97e-5aefd2bf99a6"
      },
      "outputs": [
        {
          "name": "stdout",
          "output_type": "stream",
          "text": [
            "[[1 2 3 4]\n",
            " [1 2 3 4]] \n",
            "\n",
            "(2, 4)\n"
          ]
        }
      ],
      "source": [
        "var=np.array([[1,2,3,4],[1,2,3,4]])\n",
        "print(var,\"\\n\")\n",
        "print(var.shape)"
      ]
    },
    {
      "cell_type": "code",
      "execution_count": null,
      "metadata": {
        "colab": {
          "base_uri": "https://localhost:8080/"
        },
        "id": "fuU6MH9eLnAB",
        "outputId": "79978be6-c56a-4e92-9264-7a06ccb08def"
      },
      "outputs": [
        {
          "name": "stdout",
          "output_type": "stream",
          "text": [
            "[[[[1 2 3 4]]]] \n",
            "\n",
            "(1, 1, 1, 4)\n"
          ]
        }
      ],
      "source": [
        "var=np.array([1,2,3,4],ndmin=4)\n",
        "print(var,\"\\n\")\n",
        "print(var.shape)"
      ]
    },
    {
      "cell_type": "code",
      "execution_count": null,
      "metadata": {
        "colab": {
          "base_uri": "https://localhost:8080/"
        },
        "id": "78IxvKpKPXsj",
        "outputId": "be5b833b-4067-4911-ee34-5e3d047976c2"
      },
      "outputs": [
        {
          "name": "stdout",
          "output_type": "stream",
          "text": [
            "[ 1  2  3  4  5  6  7  8  9 10 11 12] \n",
            "\n",
            "[[ 1  2  3  4  5  6]\n",
            " [ 7  8  9 10 11 12]] \n",
            "\n",
            "[[[ 1  2]\n",
            "  [ 3  4]\n",
            "  [ 5  6]]\n",
            "\n",
            " [[ 7  8]\n",
            "  [ 9 10]\n",
            "  [11 12]]] \n",
            "\n",
            "[[ 1]\n",
            " [ 2]\n",
            " [ 3]\n",
            " [ 4]\n",
            " [ 5]\n",
            " [ 6]\n",
            " [ 7]\n",
            " [ 8]\n",
            " [ 9]\n",
            " [10]\n",
            " [11]\n",
            " [12]\n",
            " [13]\n",
            " [14]\n",
            " [15]\n",
            " [16]\n",
            " [17]\n",
            " [18]]\n",
            "[[[[ 1  2]\n",
            "   [ 3  4]]\n",
            "\n",
            "  [[ 5  6]\n",
            "   [ 7  8]]]\n",
            "\n",
            "\n",
            " [[[ 9 10]\n",
            "   [11 12]]\n",
            "\n",
            "  [[13 14]\n",
            "   [15 16]]]]\n"
          ]
        }
      ],
      "source": [
        "var=np.array([1,2,3,4,5,6,7,8,9,10,11,12])\n",
        "print(var,\"\\n\")\n",
        "x=var.reshape(2,6)\n",
        "print(x,\"\\n\")\n",
        "x=var.reshape(2,3,2)\n",
        "print(x,\"\\n\")\n",
        "var1=np.array([1,2,3,4,5,6,7,8,9,10,11,12,13,14,15,16,17,18])\n",
        "x=var1.reshape(18,1)\n",
        "print(x)\n",
        "\n",
        "var2=np.array([1,2,3,4,5,6,7,8,9,10,11,12,13,14,15,16])\n",
        "x=var2.reshape(2,2,2,2)\n",
        "print(x)"
      ]
    },
    {
      "cell_type": "code",
      "execution_count": null,
      "metadata": {
        "colab": {
          "base_uri": "https://localhost:8080/"
        },
        "id": "yhKrjeMIRmoH",
        "outputId": "cdba3b2d-e500-48cd-c09b-a4a61a0b201f"
      },
      "outputs": [
        {
          "name": "stdout",
          "output_type": "stream",
          "text": [
            "[[[[ 1  2]\n",
            "   [ 3  4]]\n",
            "\n",
            "  [[ 5  6]\n",
            "   [ 7  8]]]\n",
            "\n",
            "\n",
            " [[[ 9 10]\n",
            "   [11 12]]\n",
            "\n",
            "  [[13 14]\n",
            "   [15 16]]]] \n",
            "\n",
            "onedim [ 1  2  3  4  5  6  7  8  9 10 11 12 13 14 15 16]\n"
          ]
        }
      ],
      "source": [
        "print(x,\"\\n\")\n",
        "print(\"onedim\",x.reshape(-1))\n",
        "\n",
        "\n"
      ]
    },
    {
      "cell_type": "code",
      "execution_count": null,
      "metadata": {
        "colab": {
          "base_uri": "https://localhost:8080/"
        },
        "id": "P-9A8xI6SVcX",
        "outputId": "acb93d24-87b4-4254-aa04-eb748ce3a330"
      },
      "outputs": [
        {
          "data": {
            "text/plain": [
              "array([[1, 2, 3, 4],\n",
              "       [5, 6, 7, 8],\n",
              "       [5, 6, 7, 8],\n",
              "       [5, 6, 7, 8]])"
            ]
          },
          "execution_count": 623,
          "metadata": {},
          "output_type": "execute_result"
        }
      ],
      "source": [
        "#Vertically stacking vectors\n",
        "v1 = np.array([1,2,3,4])\n",
        "v2 = np.array([5,6,7,8])\n",
        "np.vstack([v1,v2,v2,v2])"
      ]
    },
    {
      "cell_type": "code",
      "execution_count": null,
      "metadata": {
        "colab": {
          "base_uri": "https://localhost:8080/"
        },
        "id": "zARVyJWwShim",
        "outputId": "276ceda2-9089-405d-f2fe-3814c6cd4227"
      },
      "outputs": [
        {
          "name": "stdout",
          "output_type": "stream",
          "text": [
            "[[1. 1. 1. 1.]\n",
            " [1. 1. 1. 1.]]\n",
            "[[0. 0.]\n",
            " [0. 0.]]\n"
          ]
        },
        {
          "data": {
            "text/plain": [
              "array([[1., 1., 1., 1., 0., 0.],\n",
              "       [1., 1., 1., 1., 0., 0.]])"
            ]
          },
          "execution_count": 624,
          "metadata": {},
          "output_type": "execute_result"
        }
      ],
      "source": [
        "# Horizontal stack\n",
        "h1 = np.ones((2,4))\n",
        "h2 = np.zeros((2,2))\n",
        "print(h1)\n",
        "print(h2)\n",
        "np.hstack((h1,h2))"
      ]
    },
    {
      "cell_type": "code",
      "execution_count": null,
      "metadata": {
        "colab": {
          "base_uri": "https://localhost:8080/"
        },
        "id": "vC11-iSTSm1a",
        "outputId": "f1bd412b-06d5-48d8-f8ff-e1590725ec89"
      },
      "outputs": [
        {
          "data": {
            "text/plain": [
              "array([[1, 2, 3, 5, 6],\n",
              "       [4, 5, 6, 7, 8]])"
            ]
          },
          "execution_count": 625,
          "metadata": {},
          "output_type": "execute_result"
        }
      ],
      "source": [
        "v1 = np.array([[1,2,3],[4,5,6]])\n",
        "v2 = np.array([[5,6],[7,8]])\n",
        "np.hstack([v1,v2])"
      ]
    },
    {
      "cell_type": "markdown",
      "metadata": {
        "id": "t84rduqHTUBQ"
      },
      "source": [
        "**Indexing and Slicing**"
      ]
    },
    {
      "cell_type": "code",
      "execution_count": null,
      "metadata": {
        "colab": {
          "base_uri": "https://localhost:8080/"
        },
        "id": "cJOcdNleVeQx",
        "outputId": "45266367-aa23-4a85-92ac-52ae15733868"
      },
      "outputs": [
        {
          "name": "stdout",
          "output_type": "stream",
          "text": [
            "2\n",
            "2\n"
          ]
        }
      ],
      "source": [
        "y1=np.array([1,2,3])\n",
        "print(y1[1])\n",
        "print(y1[-2])"
      ]
    },
    {
      "cell_type": "code",
      "execution_count": null,
      "metadata": {
        "colab": {
          "base_uri": "https://localhost:8080/"
        },
        "id": "oUbIAHXOp-tV",
        "outputId": "b20c1d67-ebbe-4e5c-8a55-0d092cfd6857"
      },
      "outputs": [
        {
          "data": {
            "text/plain": [
              "5"
            ]
          },
          "execution_count": 627,
          "metadata": {},
          "output_type": "execute_result"
        }
      ],
      "source": [
        "y1=np.array([[1,2,3],[4,5,6]])\n",
        "#Get a specific element [r,c],python indexing starts from 0\n",
        "y1[1,1]\n"
      ]
    },
    {
      "cell_type": "code",
      "execution_count": null,
      "metadata": {
        "colab": {
          "base_uri": "https://localhost:8080/"
        },
        "id": "SSvUO56Pr56p",
        "outputId": "b6d3ccd0-ad49-438b-97ab-d0f42008b78d"
      },
      "outputs": [
        {
          "name": "stdout",
          "output_type": "stream",
          "text": [
            "[[ 1  2  3  4  5  6  7]\n",
            " [ 8  9 10 11 12 13 14]]\n"
          ]
        },
        {
          "data": {
            "text/plain": [
              "4"
            ]
          },
          "execution_count": 628,
          "metadata": {},
          "output_type": "execute_result"
        }
      ],
      "source": [
        "a5=np.array([[1,2,3,4,5,6,7],[8,9,10,11,12,13,14]])\n",
        "print(a5)\n",
        "#Get a specific element [r,c],python indexing starts from 0\n",
        "a5[0,3]"
      ]
    },
    {
      "cell_type": "code",
      "execution_count": null,
      "metadata": {
        "colab": {
          "base_uri": "https://localhost:8080/"
        },
        "id": "aMGBuJumW9SQ",
        "outputId": "29b71e42-1700-4a5a-c176-feebba4ff1bb"
      },
      "outputs": [
        {
          "name": "stdout",
          "output_type": "stream",
          "text": [
            "5\n"
          ]
        }
      ],
      "source": [
        "a6=np.array([[[1,2,3],[4,5,6]]])\n",
        "print(a6[0,1,1])"
      ]
    },
    {
      "cell_type": "code",
      "execution_count": null,
      "metadata": {
        "colab": {
          "base_uri": "https://localhost:8080/"
        },
        "id": "L8_UZflssvvE",
        "outputId": "ee1a69f7-43dc-4e31-cab4-183de486eda8"
      },
      "outputs": [
        {
          "data": {
            "text/plain": [
              "array([1, 2, 3, 4, 5, 6, 7])"
            ]
          },
          "execution_count": 630,
          "metadata": {},
          "output_type": "execute_result"
        }
      ],
      "source": [
        "#Slicing start:stop:step\n",
        "#Get a specific row\n",
        "a5[0,:]"
      ]
    },
    {
      "cell_type": "code",
      "execution_count": null,
      "metadata": {
        "colab": {
          "base_uri": "https://localhost:8080/"
        },
        "id": "Mim1cEaGs-jv",
        "outputId": "bf9319b0-30de-45f2-be23-ec600401515e"
      },
      "outputs": [
        {
          "data": {
            "text/plain": [
              "array([ 8,  9, 10, 11, 12, 13, 14])"
            ]
          },
          "execution_count": 631,
          "metadata": {},
          "output_type": "execute_result"
        }
      ],
      "source": [
        "a5[1,:]"
      ]
    },
    {
      "cell_type": "code",
      "execution_count": null,
      "metadata": {
        "colab": {
          "base_uri": "https://localhost:8080/"
        },
        "id": "QoBwL7BAYFwB",
        "outputId": "e6765af5-1182-461c-a750-1cd1c9d64ec5"
      },
      "outputs": [
        {
          "name": "stdout",
          "output_type": "stream",
          "text": [
            "[1 2 3 4 5]\n",
            "[1 2 3 4]\n"
          ]
        }
      ],
      "source": [
        "var=np.array([1,2,3,4,5])\n",
        "print(var[:7])\n",
        "\n",
        "print(var[:4])\n"
      ]
    },
    {
      "cell_type": "code",
      "execution_count": null,
      "metadata": {
        "colab": {
          "base_uri": "https://localhost:8080/"
        },
        "id": "-3l_dvUpZCI3",
        "outputId": "2a3b132b-bae1-4be2-eac9-735389960ecf"
      },
      "outputs": [
        {
          "name": "stdout",
          "output_type": "stream",
          "text": [
            "[1 3 5]\n"
          ]
        }
      ],
      "source": [
        "print(var[::2])"
      ]
    },
    {
      "cell_type": "code",
      "execution_count": null,
      "metadata": {
        "colab": {
          "base_uri": "https://localhost:8080/"
        },
        "id": "5g5qp0TZZMtv",
        "outputId": "c289aad1-19a9-4eff-9a79-6a7d69963d32"
      },
      "outputs": [
        {
          "name": "stdout",
          "output_type": "stream",
          "text": [
            "[3 5]\n"
          ]
        }
      ],
      "source": [
        "print(var[2::2])"
      ]
    },
    {
      "cell_type": "code",
      "execution_count": null,
      "metadata": {
        "colab": {
          "base_uri": "https://localhost:8080/"
        },
        "id": "ConykeGMaJNT",
        "outputId": "33aa599f-fca6-4194-9f05-6e410cefdc6f"
      },
      "outputs": [
        {
          "name": "stdout",
          "output_type": "stream",
          "text": [
            "9\n"
          ]
        }
      ],
      "source": [
        "a7=np.array([[[1,2,3],[4,5,6],[7,8,9]]])\n",
        "print(a7[0,2,2])"
      ]
    },
    {
      "cell_type": "markdown",
      "metadata": {
        "id": "a_gft0tRYOVJ"
      },
      "source": [
        "**Iterating Numpy Arrays**"
      ]
    },
    {
      "cell_type": "code",
      "execution_count": null,
      "metadata": {
        "colab": {
          "base_uri": "https://localhost:8080/"
        },
        "id": "QqxC9mJoYT20",
        "outputId": "c0c83a65-a24d-4701-f683-8acc0264f2e2"
      },
      "outputs": [
        {
          "name": "stdout",
          "output_type": "stream",
          "text": [
            "[1 2 3 4 5 6 7] \n",
            "\n",
            "1\n",
            "2\n",
            "3\n",
            "4\n",
            "5\n",
            "6\n",
            "7\n"
          ]
        }
      ],
      "source": [
        "var=np.array([1,2,3,4,5,6,7])\n",
        "print(var,\"\\n\")\n",
        "\n",
        "for i in var:\n",
        "  print(i)"
      ]
    },
    {
      "cell_type": "code",
      "execution_count": null,
      "metadata": {
        "colab": {
          "base_uri": "https://localhost:8080/"
        },
        "id": "Y0SsoCMNYysG",
        "outputId": "ff11eb65-ba2c-43f5-de33-66dc34ab784d"
      },
      "outputs": [
        {
          "name": "stdout",
          "output_type": "stream",
          "text": [
            "[[ 1  2  3  4]\n",
            " [ 8  9 10 11]] \n",
            "\n",
            "[1 2 3 4]\n",
            "[ 8  9 10 11]\n"
          ]
        }
      ],
      "source": [
        "var=np.array([[1,2,3,4],[8,9,10,11]])\n",
        "print(var,\"\\n\")\n",
        "\n",
        "for i in var:\n",
        "  print(i)"
      ]
    },
    {
      "cell_type": "code",
      "execution_count": null,
      "metadata": {
        "colab": {
          "base_uri": "https://localhost:8080/"
        },
        "id": "8oPRWNYXZJCO",
        "outputId": "9441497a-df8c-4236-9982-97bb17daaa53"
      },
      "outputs": [
        {
          "name": "stdout",
          "output_type": "stream",
          "text": [
            "[[ 1  2  3  4]\n",
            " [ 8  9 10 11]] \n",
            "\n",
            "1\n",
            "2\n",
            "3\n",
            "4\n",
            "8\n",
            "9\n",
            "10\n",
            "11\n"
          ]
        }
      ],
      "source": [
        "var=np.array([[1,2,3,4],[8,9,10,11]])\n",
        "print(var,\"\\n\")\n",
        "\n",
        "for i in var:\n",
        "  for k in i:\n",
        "    print(k)"
      ]
    },
    {
      "cell_type": "code",
      "execution_count": null,
      "metadata": {
        "colab": {
          "base_uri": "https://localhost:8080/"
        },
        "id": "gLCii7JRZPMZ",
        "outputId": "4debe918-6b72-4a89-ad69-6c680564e0aa"
      },
      "outputs": [
        {
          "name": "stdout",
          "output_type": "stream",
          "text": [
            "[[[ 1  2  3  4]\n",
            "  [ 8  9 10 11]]] \n",
            "\n",
            "1\n",
            "2\n",
            "3\n",
            "4\n",
            "8\n",
            "9\n",
            "10\n",
            "11\n"
          ]
        }
      ],
      "source": [
        "var=np.array([[[1,2,3,4],[8,9,10,11]]])\n",
        "print(var,\"\\n\")\n",
        "\n",
        "for i in var:\n",
        "  for k in i:\n",
        "    for j in k:\n",
        "      print(j)"
      ]
    },
    {
      "cell_type": "code",
      "execution_count": null,
      "metadata": {
        "colab": {
          "base_uri": "https://localhost:8080/"
        },
        "id": "eD2oLsuSZtIL",
        "outputId": "db6c3d56-bf17-458e-ca69-0e928e7a2014"
      },
      "outputs": [
        {
          "name": "stdout",
          "output_type": "stream",
          "text": [
            "[[[ 1  2  3  4]\n",
            "  [ 8  9 10 11]]] \n",
            "\n",
            "1\n",
            "2\n",
            "3\n",
            "4\n",
            "8\n",
            "9\n",
            "10\n",
            "11\n"
          ]
        }
      ],
      "source": [
        "var=np.array([[[1,2,3,4],[8,9,10,11]]])\n",
        "print(var,\"\\n\")\n",
        "\n",
        "for i in np.nditer(var):\n",
        "  print(i)"
      ]
    },
    {
      "cell_type": "code",
      "execution_count": null,
      "metadata": {
        "colab": {
          "base_uri": "https://localhost:8080/"
        },
        "id": "wUlmocuRbeDw",
        "outputId": "7d8c9d67-ba9e-4051-d622-1a58d960f7e5"
      },
      "outputs": [
        {
          "name": "stdout",
          "output_type": "stream",
          "text": [
            "[[[ 1  2  3  4]\n",
            "  [ 8  9 10 11]]] \n",
            "\n",
            "(0, 0, 0) 1\n",
            "(0, 0, 1) 2\n",
            "(0, 0, 2) 3\n",
            "(0, 0, 3) 4\n",
            "(0, 1, 0) 8\n",
            "(0, 1, 1) 9\n",
            "(0, 1, 2) 10\n",
            "(0, 1, 3) 11\n"
          ]
        }
      ],
      "source": [
        "var=np.array([[[1,2,3,4],[8,9,10,11]]])\n",
        "print(var,\"\\n\")\n",
        "\n",
        "for i,d in np.ndenumerate(var):\n",
        "  print(i,d)"
      ]
    },
    {
      "cell_type": "code",
      "execution_count": null,
      "metadata": {
        "colab": {
          "base_uri": "https://localhost:8080/"
        },
        "id": "CEQHPTXMa1X7",
        "outputId": "898fd218-f948-4e1f-a57b-19ba3a0afffb"
      },
      "outputs": [
        {
          "name": "stdout",
          "output_type": "stream",
          "text": [
            "[[ 1  2  3  4]\n",
            " [ 8  9 10 11]] \n",
            "\n",
            "(0, 0) 1\n",
            "(0, 1) 2\n",
            "(0, 2) 3\n",
            "(0, 3) 4\n",
            "(1, 0) 8\n",
            "(1, 1) 9\n",
            "(1, 2) 10\n",
            "(1, 3) 11\n"
          ]
        }
      ],
      "source": [
        "var=np.array([[1,2,3,4],[8,9,10,11]])\n",
        "print(var,\"\\n\")\n",
        "\n",
        "for i,d in np.ndenumerate(var):\n",
        "  print(i,d)"
      ]
    },
    {
      "cell_type": "markdown",
      "metadata": {
        "id": "PRLTAvSWLfL_"
      },
      "source": [
        "**Copy & View**"
      ]
    },
    {
      "cell_type": "code",
      "execution_count": null,
      "metadata": {
        "colab": {
          "base_uri": "https://localhost:8080/"
        },
        "id": "BZyoHw9vJ0fS",
        "outputId": "21457c05-80a1-41d9-dcd0-59b05e867f00"
      },
      "outputs": [
        {
          "name": "stdout",
          "output_type": "stream",
          "text": [
            "[1 2 3 4 5 6 7] \n",
            "\n",
            "[1 2 3 4 5 6 7] \n",
            "\n"
          ]
        }
      ],
      "source": [
        "var=np.array([1,2,3,4,5,6,7])\n",
        "print(var,\"\\n\")\n",
        "co=var.copy()\n",
        "print(co,\"\\n\")"
      ]
    },
    {
      "cell_type": "code",
      "execution_count": null,
      "metadata": {
        "colab": {
          "base_uri": "https://localhost:8080/"
        },
        "id": "JTTsMLyVKMXQ",
        "outputId": "53642414-a3fc-422c-c8b7-97b41152a829"
      },
      "outputs": [
        {
          "name": "stdout",
          "output_type": "stream",
          "text": [
            "[1 2 3 4 5 6 7] \n",
            "\n",
            "[1 2 3 4 5 6 7] \n",
            "\n"
          ]
        }
      ],
      "source": [
        "var=np.array([1,2,3,4,5,6,7])\n",
        "print(var,\"\\n\")\n",
        "vi=var.view()\n",
        "print(vi,\"\\n\")"
      ]
    },
    {
      "cell_type": "code",
      "execution_count": null,
      "metadata": {
        "colab": {
          "base_uri": "https://localhost:8080/"
        },
        "id": "C8BEgcmSKmOB",
        "outputId": "aacfca53-64b9-4036-f9ac-db9bcc91dd9b"
      },
      "outputs": [
        {
          "name": "stdout",
          "output_type": "stream",
          "text": [
            "[ 1 40  3  4  5  6  7] \n",
            "\n",
            "[1 2 3 4 5 6 7] \n",
            "\n"
          ]
        }
      ],
      "source": [
        "var=np.array([1,2,3,4,5,6,7])\n",
        "co=var.copy()\n",
        "var[1]=40\n",
        "print(var,\"\\n\")\n",
        "print(co,\"\\n\")"
      ]
    },
    {
      "cell_type": "code",
      "execution_count": null,
      "metadata": {
        "colab": {
          "base_uri": "https://localhost:8080/"
        },
        "id": "BljM1Ho6KzJf",
        "outputId": "7d530d7c-37f1-4c5d-d2f9-338de29c2215"
      },
      "outputs": [
        {
          "name": "stdout",
          "output_type": "stream",
          "text": [
            "[ 1 40  3  4  5  6  7] \n",
            "\n",
            "[ 1 40  3  4  5  6  7] \n",
            "\n"
          ]
        }
      ],
      "source": [
        "var=np.array([1,2,3,4,5,6,7])\n",
        "vi=var.view()\n",
        "var[1]=40\n",
        "print(var,\"\\n\")\n",
        "print(vi,\"\\n\")"
      ]
    },
    {
      "cell_type": "code",
      "execution_count": null,
      "metadata": {
        "colab": {
          "base_uri": "https://localhost:8080/"
        },
        "id": "wCzeZt65LBsg",
        "outputId": "f988a271-99de-45da-8ddb-47ae53ed8daf"
      },
      "outputs": [
        {
          "name": "stdout",
          "output_type": "stream",
          "text": [
            "[1 2 3 4 5 6 7] \n",
            "\n",
            "[ 1  2 30  4  5  6  7] \n",
            "\n"
          ]
        }
      ],
      "source": [
        "var=np.array([1,2,3,4,5,6,7])\n",
        "co=var.copy()\n",
        "co[2]=30\n",
        "print(var,\"\\n\")\n",
        "print(co,\"\\n\")"
      ]
    },
    {
      "cell_type": "code",
      "execution_count": null,
      "metadata": {
        "colab": {
          "base_uri": "https://localhost:8080/"
        },
        "id": "dGV8-Ox3LJah",
        "outputId": "d65a5086-0d7a-4731-cea2-8f8d41ac1e91"
      },
      "outputs": [
        {
          "name": "stdout",
          "output_type": "stream",
          "text": [
            "[ 1  2 40  4  5  6  7] \n",
            "\n",
            "[ 1  2 40  4  5  6  7] \n",
            "\n"
          ]
        }
      ],
      "source": [
        "var=np.array([1,2,3,4,5,6,7])\n",
        "vi=var.view()\n",
        "vi[2]=40\n",
        "print(var,\"\\n\")\n",
        "print(vi,\"\\n\")"
      ]
    },
    {
      "cell_type": "markdown",
      "metadata": {
        "id": "FcCAyNrKLjNx"
      },
      "source": [
        "**Join & Split Functions**"
      ]
    },
    {
      "cell_type": "code",
      "execution_count": null,
      "metadata": {
        "colab": {
          "base_uri": "https://localhost:8080/"
        },
        "id": "vTdXgOjOLpp3",
        "outputId": "92a671de-2afe-44af-8628-1466896ceadf"
      },
      "outputs": [
        {
          "name": "stdout",
          "output_type": "stream",
          "text": [
            "[ 1  2  3  4  5  6  7 11 12 13 14 15 16 17]\n"
          ]
        }
      ],
      "source": [
        "var=np.array([1,2,3,4,5,6,7])\n",
        "var1=np.array([11,12,13,14,15,16,17])\n",
        "\n",
        "ar=np.concatenate((var,var1))\n",
        "print(ar)"
      ]
    },
    {
      "cell_type": "code",
      "execution_count": null,
      "metadata": {
        "colab": {
          "base_uri": "https://localhost:8080/"
        },
        "id": "hhi6ZIFeMAaK",
        "outputId": "92d7ba2b-0f79-4f7b-ceda-9e7c980f498f"
      },
      "outputs": [
        {
          "name": "stdout",
          "output_type": "stream",
          "text": [
            "[[ 1  2]\n",
            " [ 3  4]\n",
            " [ 5  6]\n",
            " [11 12]\n",
            " [13 14]\n",
            " [15 16]]\n"
          ]
        }
      ],
      "source": [
        "var=np.array([[1,2],[3,4],[5,6]])\n",
        "var1=np.array([[11,12],[13,14],[15,16]])\n",
        "ar=np.concatenate((var,var1))\n",
        "print(ar)"
      ]
    },
    {
      "cell_type": "code",
      "execution_count": null,
      "metadata": {
        "colab": {
          "base_uri": "https://localhost:8080/"
        },
        "id": "MkSU3fjHMUyJ",
        "outputId": "096b9dc3-c67f-43bf-d833-1e0af82a66af"
      },
      "outputs": [
        {
          "name": "stdout",
          "output_type": "stream",
          "text": [
            "[[ 1  2]\n",
            " [ 3  4]\n",
            " [ 5  6]\n",
            " [11 12]\n",
            " [13 14]\n",
            " [15 16]]\n"
          ]
        }
      ],
      "source": [
        "var=np.array([[1,2],[3,4],[5,6]])\n",
        "var1=np.array([[11,12],[13,14],[15,16]])\n",
        "ar=np.concatenate((var,var1),axis=0)\n",
        "print(ar)"
      ]
    },
    {
      "cell_type": "code",
      "execution_count": null,
      "metadata": {
        "colab": {
          "base_uri": "https://localhost:8080/"
        },
        "id": "ejSU8tccMhYI",
        "outputId": "21308ef5-be63-4b85-9ae6-c02a6b998b79"
      },
      "outputs": [
        {
          "name": "stdout",
          "output_type": "stream",
          "text": [
            "[[ 1  2 11 12]\n",
            " [ 3  4 13 14]\n",
            " [ 5  6 15 16]]\n"
          ]
        }
      ],
      "source": [
        "var=np.array([[1,2],[3,4],[5,6]])\n",
        "var1=np.array([[11,12],[13,14],[15,16]])\n",
        "ar=np.concatenate((var,var1),axis=1)\n",
        "print(ar)"
      ]
    },
    {
      "cell_type": "code",
      "execution_count": null,
      "metadata": {
        "colab": {
          "base_uri": "https://localhost:8080/"
        },
        "id": "9bHEz1zNMlpI",
        "outputId": "bf236c94-0e6f-4aa9-e948-077292599505"
      },
      "outputs": [
        {
          "name": "stdout",
          "output_type": "stream",
          "text": [
            "[[[ 1  2]\n",
            "  [ 3  4]\n",
            "  [ 5  6]]\n",
            "\n",
            " [[11 12]\n",
            "  [13 14]\n",
            "  [15 16]]]\n"
          ]
        }
      ],
      "source": [
        "var=np.array([[[1,2],[3,4],[5,6]]])\n",
        "var1=np.array([[[11,12],[13,14],[15,16]]])\n",
        "ar=np.concatenate((var,var1),axis=0)\n",
        "print(ar)"
      ]
    },
    {
      "cell_type": "code",
      "execution_count": null,
      "metadata": {
        "colab": {
          "base_uri": "https://localhost:8080/"
        },
        "id": "9qpLO91SMy-I",
        "outputId": "a8b6160f-20d4-4e06-e95a-ab1f2a977cb3"
      },
      "outputs": [
        {
          "name": "stdout",
          "output_type": "stream",
          "text": [
            "[[[ 1  2]\n",
            "  [ 3  4]\n",
            "  [ 5  6]\n",
            "  [11 12]\n",
            "  [13 14]\n",
            "  [15 16]]]\n"
          ]
        }
      ],
      "source": [
        "var=np.array([[[1,2],[3,4],[5,6]]])\n",
        "var1=np.array([[[11,12],[13,14],[15,16]]])\n",
        "ar=np.concatenate((var,var1),axis=1)\n",
        "print(ar)"
      ]
    },
    {
      "cell_type": "code",
      "execution_count": null,
      "metadata": {
        "colab": {
          "base_uri": "https://localhost:8080/"
        },
        "id": "QVfLGAKqM59x",
        "outputId": "82c92e9b-06eb-4f24-c599-fb819e3a4493"
      },
      "outputs": [
        {
          "name": "stdout",
          "output_type": "stream",
          "text": [
            "[[[ 1  2 11 12]\n",
            "  [ 3  4 13 14]\n",
            "  [ 5  6 15 16]]]\n"
          ]
        }
      ],
      "source": [
        "var=np.array([[[1,2],[3,4],[5,6]]])\n",
        "var1=np.array([[[11,12],[13,14],[15,16]]])\n",
        "ar=np.concatenate((var,var1),axis=2)\n",
        "print(ar)"
      ]
    },
    {
      "cell_type": "code",
      "execution_count": null,
      "metadata": {
        "colab": {
          "base_uri": "https://localhost:8080/"
        },
        "id": "DCSwiJEvNYGf",
        "outputId": "1296d1a7-ca8d-47da-fb38-698dd9a94a9b"
      },
      "outputs": [
        {
          "name": "stdout",
          "output_type": "stream",
          "text": [
            "[1 2 3 4 5 6 7]\n",
            "\n",
            "[array([1, 2, 3]), array([4, 5]), array([6, 7])]\n"
          ]
        }
      ],
      "source": [
        "var=np.array([1,2,3,4,5,6,7])\n",
        "print(var)\n",
        "print()\n",
        "ar=np.array_split(var,3)\n",
        "print(ar)"
      ]
    },
    {
      "cell_type": "code",
      "execution_count": null,
      "metadata": {
        "colab": {
          "base_uri": "https://localhost:8080/"
        },
        "id": "PbaynkdqN1H6",
        "outputId": "fe3e4a00-0105-4ed4-8a59-4f0f142a2b31"
      },
      "outputs": [
        {
          "name": "stdout",
          "output_type": "stream",
          "text": [
            "[[1 2]\n",
            " [3 4]\n",
            " [5 6]\n",
            " [1 1]]\n",
            "\n",
            "[array([[1, 2],\n",
            "       [3, 4]]), array([[5, 6]]), array([[1, 1]])]\n"
          ]
        }
      ],
      "source": [
        "var=np.array([[1,2],[3,4],[5,6],[1,1]])\n",
        "print(var)\n",
        "print()\n",
        "ar=np.array_split(var,3)\n",
        "print(ar)"
      ]
    },
    {
      "cell_type": "markdown",
      "metadata": {
        "id": "MKfLM9HpOM6w"
      },
      "source": [
        "**Search**"
      ]
    },
    {
      "cell_type": "code",
      "execution_count": null,
      "metadata": {
        "colab": {
          "base_uri": "https://localhost:8080/"
        },
        "id": "ICmAYTi5ORq5",
        "outputId": "77c7c0f2-321f-4f96-ca05-25b599df7714"
      },
      "outputs": [
        {
          "name": "stdout",
          "output_type": "stream",
          "text": [
            "(array([1, 7, 9], dtype=int64),)\n"
          ]
        }
      ],
      "source": [
        "var=np.array([1,2,3,4,5,6,7,2,8,2])\n",
        "x=np.where(var==2)\n",
        "print(x)"
      ]
    },
    {
      "cell_type": "code",
      "execution_count": null,
      "metadata": {
        "colab": {
          "base_uri": "https://localhost:8080/"
        },
        "id": "gjC3TUzzOiXw",
        "outputId": "53bcab06-fcaa-4ab1-ddae-b37d08f8b56c"
      },
      "outputs": [
        {
          "name": "stdout",
          "output_type": "stream",
          "text": [
            "(array([8], dtype=int64),)\n"
          ]
        }
      ],
      "source": [
        "var=np.array([1,2,3,4,5,6,7,2,8,2])\n",
        "x=np.where(var/2==4)\n",
        "print(x)"
      ]
    },
    {
      "cell_type": "code",
      "execution_count": null,
      "metadata": {
        "colab": {
          "base_uri": "https://localhost:8080/"
        },
        "id": "VxOmT3tqO4RK",
        "outputId": "349cbdda-fcd4-4beb-cdbc-49b20f9307e9"
      },
      "outputs": [
        {
          "name": "stdout",
          "output_type": "stream",
          "text": [
            "[1 2 2 2 3 4 5 6 7 8]\n"
          ]
        }
      ],
      "source": [
        "var=np.array([1,2,3,4,5,6,7,2,8,2])\n",
        "x=np.sort(var)\n",
        "print(x)"
      ]
    },
    {
      "cell_type": "code",
      "execution_count": null,
      "metadata": {
        "colab": {
          "base_uri": "https://localhost:8080/"
        },
        "id": "quTmX-JyPmDD",
        "outputId": "6e008b09-3c26-4331-b3bd-69900cd82914"
      },
      "outputs": [
        {
          "name": "stdout",
          "output_type": "stream",
          "text": [
            "['a' 'c' 'z']\n"
          ]
        }
      ],
      "source": [
        "var=np.array([\"a\",\"z\",\"c\"])\n",
        "x=np.sort(var)\n",
        "print(x)"
      ]
    },
    {
      "cell_type": "code",
      "execution_count": null,
      "metadata": {
        "colab": {
          "base_uri": "https://localhost:8080/"
        },
        "id": "KgmTd49JPxlS",
        "outputId": "bb3fd5b8-ae10-4f93-d3fd-755cc6e0529f"
      },
      "outputs": [
        {
          "name": "stdout",
          "output_type": "stream",
          "text": [
            "['z' 'c' 'a']\n"
          ]
        }
      ],
      "source": [
        "var=np.array([\"a\",\"z\",\"c\"])\n",
        "x=np.sort(var)[::-1]\n",
        "print(x)"
      ]
    },
    {
      "cell_type": "code",
      "execution_count": null,
      "metadata": {
        "colab": {
          "base_uri": "https://localhost:8080/"
        },
        "id": "Hp6IR5O5QyNk",
        "outputId": "6dd40d2c-9538-43d4-e283-bccdfae844f3"
      },
      "outputs": [
        {
          "name": "stdout",
          "output_type": "stream",
          "text": [
            "[[1 0 1]\n",
            " [3 2 4]\n",
            " [5 9 7]]\n"
          ]
        }
      ],
      "source": [
        "arr = np.array([[3, 2, 4],\n",
        "                [5, 0, 1],\n",
        "                [1, 9, 7]])\n",
        "\n",
        "arr = np.sort(arr, axis=0)\n",
        "print(arr)"
      ]
    },
    {
      "cell_type": "code",
      "execution_count": null,
      "metadata": {
        "colab": {
          "base_uri": "https://localhost:8080/"
        },
        "id": "6hcSmfUkQ6a3",
        "outputId": "558e8df6-59af-4b28-a52b-3bda418599b3"
      },
      "outputs": [
        {
          "name": "stdout",
          "output_type": "stream",
          "text": [
            "[[1 7 9]\n",
            " [0 1 5]\n",
            " [2 3 4]]\n"
          ]
        }
      ],
      "source": [
        "arr = np.array([[3, 2, 4],\n",
        "                [5, 0, 1],\n",
        "                [1, 9, 7]])\n",
        "\n",
        "arr = np.sort(arr, axis=1)[::-1]\n",
        "print(arr)"
      ]
    },
    {
      "cell_type": "code",
      "execution_count": null,
      "metadata": {
        "colab": {
          "base_uri": "https://localhost:8080/"
        },
        "id": "l7vTfIcLRilo",
        "outputId": "c680a365-5119-4560-d608-1469d9700d58"
      },
      "outputs": [
        {
          "name": "stdout",
          "output_type": "stream",
          "text": [
            "[1 3]\n",
            "['a' 'e']\n"
          ]
        }
      ],
      "source": [
        "#filter array\n",
        "var=np.array([1,2,3,4])\n",
        "f=[True,False,True,False]\n",
        "new_a=var[f]\n",
        "print(new_a)\n",
        "\n",
        "var1=np.array([\"a\",\"w\",\"e\",\"r\"])\n",
        "new_a1=var1[f]\n",
        "print(new_a1)"
      ]
    },
    {
      "cell_type": "markdown",
      "metadata": {
        "id": "r47Vh8ZhkEu4"
      },
      "source": [
        "**Insert**"
      ]
    },
    {
      "cell_type": "code",
      "execution_count": null,
      "metadata": {
        "colab": {
          "base_uri": "https://localhost:8080/"
        },
        "id": "YCgieH3VkoD6",
        "outputId": "a0ff08c4-71da-4e0d-b531-7534a0871e2a"
      },
      "outputs": [
        {
          "name": "stdout",
          "output_type": "stream",
          "text": [
            "[11 12 13 14] \n",
            "\n",
            "[11 12 13 20 14]\n",
            "[11 12 20 13 30 14]\n"
          ]
        }
      ],
      "source": [
        "var=np.array([11,12,13,14])\n",
        "print(var,\"\\n\")\n",
        "v=np.insert(var, 3, 20)\n",
        "print(v)\n",
        "v=np.insert(var, (2,3), [20.5,30.5])  #doesn't take float values\n",
        "print(v)"
      ]
    },
    {
      "cell_type": "code",
      "execution_count": null,
      "metadata": {
        "colab": {
          "base_uri": "https://localhost:8080/"
        },
        "id": "efNy0tOIlQuP",
        "outputId": "663d8b7a-2d5c-4b67-ebe1-eaec31aff448"
      },
      "outputs": [
        {
          "name": "stdout",
          "output_type": "stream",
          "text": [
            "[[1 2 3]\n",
            " [4 5 6]] \n",
            "\n",
            "[ 1  2  3  4  5  6 20] \n",
            "\n",
            "[[ 1  2  3]\n",
            " [ 4  5  6]\n",
            " [20 20 20]] \n",
            "\n",
            "[[ 1  2 20  3 20]\n",
            " [ 4  5 20  6 20]] \n",
            "\n",
            "[[1 7 2 3]\n",
            " [4 8 5 6]] \n",
            "\n"
          ]
        }
      ],
      "source": [
        "var=np.array([[1,2,3],[4,5,6]])\n",
        "print(var,\"\\n\")\n",
        "v=np.insert(var, (6), 20)\n",
        "print(v,\"\\n\")\n",
        "v=np.insert(var, (2), 20,axis=0)\n",
        "print(v,\"\\n\")\n",
        "v=np.insert(var, (2,3), 20.5,axis=1)  #doesn't take float values\n",
        "print(v,\"\\n\")\n",
        "v=np.insert(var, 1, [7,8],axis=1)\n",
        "print(v,\"\\n\")"
      ]
    },
    {
      "cell_type": "code",
      "execution_count": null,
      "metadata": {
        "colab": {
          "base_uri": "https://localhost:8080/"
        },
        "id": "2yhaE4Uyph57",
        "outputId": "f37eb767-6648-4b15-c8e0-2766d7988f96"
      },
      "outputs": [
        {
          "name": "stdout",
          "output_type": "stream",
          "text": [
            "[11 12 13 14] \n",
            "\n",
            "[20 11 12 13 14]\n"
          ]
        }
      ],
      "source": [
        "var=np.array([11,12,13,14])\n",
        "print(var,\"\\n\")\n",
        "v=np.append(20,var)  #append at the start\n",
        "print(v)"
      ]
    },
    {
      "cell_type": "code",
      "execution_count": null,
      "metadata": {
        "colab": {
          "base_uri": "https://localhost:8080/"
        },
        "id": "5CuPfIbpq4xq",
        "outputId": "db5f3671-748c-4a38-ef9e-ca31c509b46c"
      },
      "outputs": [
        {
          "name": "stdout",
          "output_type": "stream",
          "text": [
            "[11 12 13 14] \n",
            "\n",
            "[11 12 13 14 20]\n"
          ]
        }
      ],
      "source": [
        "var=np.array([11,12,13,14])\n",
        "print(var,\"\\n\")\n",
        "v=np.append(var, 20) #append at the end\n",
        "print(v)"
      ]
    },
    {
      "cell_type": "code",
      "execution_count": null,
      "metadata": {
        "colab": {
          "base_uri": "https://localhost:8080/"
        },
        "id": "mwqJMfuvo5If",
        "outputId": "31435bea-8427-4196-fed6-384b6590c4ac"
      },
      "outputs": [
        {
          "name": "stdout",
          "output_type": "stream",
          "text": [
            "[[1 2 3]\n",
            " [4 5 6]\n",
            " [7 8 9]] \n",
            "\n"
          ]
        }
      ],
      "source": [
        "var=np.array([[1,2,3],[4,5,6]])\n",
        "var1=np.append(var,[[7,8,9]],axis=0)\n",
        "print(var1,\"\\n\")\n"
      ]
    },
    {
      "cell_type": "code",
      "execution_count": null,
      "metadata": {
        "colab": {
          "base_uri": "https://localhost:8080/"
        },
        "id": "1486E5vwpyER",
        "outputId": "9d20f829-fbf3-4371-d3ba-8e57d7bc75dc"
      },
      "outputs": [
        {
          "name": "stdout",
          "output_type": "stream",
          "text": [
            "[[1 2 3]\n",
            " [4 5 6]]\n",
            "[[1 2 3 7]\n",
            " [4 5 6 8]] \n",
            "\n"
          ]
        }
      ],
      "source": [
        "var=np.array([[1,2,3],[4,5,6]])\n",
        "print(var)\n",
        "var1=np.append(var,[[7],[8]],axis=1)\n",
        "print(var1,\"\\n\")"
      ]
    },
    {
      "cell_type": "markdown",
      "metadata": {
        "id": "Z4wi0aobrTPy"
      },
      "source": [
        "**Delete**"
      ]
    },
    {
      "cell_type": "code",
      "execution_count": null,
      "metadata": {
        "colab": {
          "base_uri": "https://localhost:8080/"
        },
        "id": "WmRKoUXhrVXp",
        "outputId": "015b7c1a-e416-4e9a-c061-2b34acd43567"
      },
      "outputs": [
        {
          "name": "stdout",
          "output_type": "stream",
          "text": [
            "[11 12 13 14] \n",
            "\n",
            "[11 12 14]\n"
          ]
        }
      ],
      "source": [
        "var=np.array([11,12,13,14])\n",
        "print(var,\"\\n\")\n",
        "v=np.delete(var, 2)\n",
        "print(v)"
      ]
    },
    {
      "cell_type": "markdown",
      "metadata": {
        "id": "pBvBMxxQsTSK"
      },
      "source": [
        "**Matrix**"
      ]
    },
    {
      "cell_type": "code",
      "execution_count": null,
      "metadata": {
        "colab": {
          "base_uri": "https://localhost:8080/"
        },
        "id": "GHE2F18nt2U1",
        "outputId": "4664f29f-ec84-4da8-c64f-38cc61428622"
      },
      "outputs": [
        {
          "name": "stdout",
          "output_type": "stream",
          "text": [
            "[11 12 13 14] \n",
            "\n",
            "<class 'numpy.ndarray'> \n",
            "\n",
            "[[11 12 13 14]] \n",
            "\n",
            "<class 'numpy.matrix'> \n",
            "\n"
          ]
        }
      ],
      "source": [
        "var=np.array([11,12,13,14])\n",
        "print(var,\"\\n\")\n",
        "print(type(var),\"\\n\")\n",
        "\n",
        "var1=np.matrix([11,12,13,14])\n",
        "print(var1,\"\\n\")\n",
        "print(type(var1),\"\\n\")"
      ]
    },
    {
      "cell_type": "code",
      "execution_count": null,
      "metadata": {
        "colab": {
          "base_uri": "https://localhost:8080/"
        },
        "id": "XNyI-hpeuZSb",
        "outputId": "cf10a804-9a0c-4f39-a111-5a27822fd0d6"
      },
      "outputs": [
        {
          "name": "stdout",
          "output_type": "stream",
          "text": [
            "[[2 4]\n",
            " [6 8]] \n",
            "\n",
            "[[ 7 10]\n",
            " [15 22]] \n",
            "\n",
            "[[ 7 10]\n",
            " [15 22]]\n",
            "\n",
            "[[ 7 10]\n",
            " [15 22]]\n"
          ]
        }
      ],
      "source": [
        "#arithmetic operation in matrix\n",
        "\n",
        "var1=np.matrix([[1,2],[3,4]])\n",
        "var2=np.matrix([[1,2],[3,4]])\n",
        "print(var1+var2,\"\\n\")\n",
        "\n",
        "print(var1*var2,\"\\n\")\n",
        "print(var1.dot(var2))\n",
        "print()\n",
        "print(np.matmul(var1,var2))\n"
      ]
    },
    {
      "cell_type": "code",
      "execution_count": null,
      "metadata": {
        "colab": {
          "base_uri": "https://localhost:8080/"
        },
        "id": "SQY66ANBCcEr",
        "outputId": "5a102c94-4d12-441f-ef35-5b3efa7aa6ad"
      },
      "outputs": [
        {
          "data": {
            "text/plain": [
              "matrix([[ 7, 10],\n",
              "        [15, 22]])"
            ]
          },
          "execution_count": 675,
          "metadata": {},
          "output_type": "execute_result"
        }
      ],
      "source": [
        "var1 @ var2"
      ]
    },
    {
      "cell_type": "code",
      "execution_count": null,
      "metadata": {
        "colab": {
          "base_uri": "https://localhost:8080/",
          "height": 287
        },
        "id": "6wuqjekzv-Ir",
        "outputId": "fb627919-fb10-4719-df34-6119efb300a7"
      },
      "outputs": [
        {
          "name": "stdout",
          "output_type": "stream",
          "text": [
            "[[1 3]\n",
            " [2 4]]\n",
            "[[1 3]\n",
            " [2 4]]\n",
            "[[1 3]\n",
            " [2 4]\n",
            " [3 1]]\n"
          ]
        }
      ],
      "source": [
        "var1=np.matrix([[1,2],[3,4]])\n",
        "print(np.transpose(var1))\n",
        "print(var1.T)\n",
        "\n",
        "var11=np.array([[1,2,3],[3,4,1]])\n",
        "print(np.transpose(var11))"
      ]
    },
    {
      "cell_type": "code",
      "execution_count": null,
      "metadata": {
        "colab": {
          "base_uri": "https://localhost:8080/"
        },
        "id": "VRncVO1TwdBI",
        "outputId": "2e455f88-0292-457a-a7f4-1ddc94179113"
      },
      "outputs": [
        {
          "name": "stdout",
          "output_type": "stream",
          "text": [
            "[[ 1 22]\n",
            " [ 3  1]]\n",
            "[[67 44]\n",
            " [ 6 67]]\n",
            "[[ 7 10]\n",
            " [15 22]]\n"
          ]
        }
      ],
      "source": [
        "var1=np.matrix([[1,22],[3,1]])\n",
        "print(var1)\n",
        "print(np.linalg.matrix_power(var1,2))\n",
        "\n",
        "\n",
        "var11=np.array([[1,2],[3,4]])\n",
        "print(np.linalg.matrix_power(var11,2))"
      ]
    },
    {
      "cell_type": "code",
      "execution_count": null,
      "metadata": {
        "colab": {
          "base_uri": "https://localhost:8080/"
        },
        "id": "NKHwLFrdva2Q",
        "outputId": "5bbd7476-1407-4207-93ad-f3fe195cf14d"
      },
      "outputs": [
        {
          "name": "stdout",
          "output_type": "stream",
          "text": [
            "[[ 1  4  9]\n",
            " [ 9 16  1]] \n",
            "\n"
          ]
        }
      ],
      "source": [
        "var11=np.array([[1,2,3],[3,4,1]])\n",
        "var12=np.array([[1,2,3],[3,4,1]])\n",
        "print(var11*var12,\"\\n\")"
      ]
    },
    {
      "cell_type": "code",
      "execution_count": null,
      "metadata": {
        "id": "4vrDpl0p3bka"
      },
      "outputs": [],
      "source": [
        "arr1=list(range(1000000))\n",
        "arr2=list(range(1000000,2000000))\n",
        "\n",
        "arr1_np=np.array(arr1)\n",
        "arr2_np=np.array(arr2)"
      ]
    },
    {
      "cell_type": "code",
      "execution_count": null,
      "metadata": {
        "colab": {
          "base_uri": "https://localhost:8080/"
        },
        "id": "T0s88r6wAqUG",
        "outputId": "bfb2236f-dab9-4cf2-ea91-fa68c5f47e8c"
      },
      "outputs": [
        {
          "name": "stdout",
          "output_type": "stream",
          "text": [
            "CPU times: total: 156 ms\n",
            "Wall time: 306 ms\n"
          ]
        },
        {
          "data": {
            "text/plain": [
              "833332333333500000"
            ]
          },
          "execution_count": 680,
          "metadata": {},
          "output_type": "execute_result"
        }
      ],
      "source": [
        "%%time\n",
        "result=0\n",
        "for x1,x2 in zip(arr1,arr2):\n",
        "  result+=x1*x2\n",
        "result\n"
      ]
    },
    {
      "cell_type": "code",
      "execution_count": null,
      "metadata": {
        "colab": {
          "base_uri": "https://localhost:8080/"
        },
        "id": "0g2OayXIBBJN",
        "outputId": "3dfd1f8d-f1bb-40cd-a440-ddcc319860d3"
      },
      "outputs": [
        {
          "name": "stdout",
          "output_type": "stream",
          "text": [
            "CPU times: total: 0 ns\n",
            "Wall time: 1.02 ms\n"
          ]
        },
        {
          "data": {
            "text/plain": [
              "-1942957984"
            ]
          },
          "execution_count": 681,
          "metadata": {},
          "output_type": "execute_result"
        }
      ],
      "source": [
        "%%time\n",
        "np.dot(arr1_np, arr2_np)"
      ]
    },
    {
      "cell_type": "code",
      "execution_count": null,
      "metadata": {
        "colab": {
          "base_uri": "https://localhost:8080/"
        },
        "id": "6TWReH_QDo9Q",
        "outputId": "84f61258-40a5-4bd3-ebf4-ecddc5b32a59"
      },
      "outputs": [
        {
          "name": "stdout",
          "output_type": "stream",
          "text": [
            "[[1. 0. 0. 0.]\n",
            " [0. 1. 0. 0.]\n",
            " [0. 0. 1. 0.]\n",
            " [0. 0. 0. 1.]]\n"
          ]
        }
      ],
      "source": [
        "#Create an identity matrix of dimension 4-by-4\n",
        "i = np.eye(4)\n",
        "\n",
        "print(i)"
      ]
    },
    {
      "cell_type": "code",
      "execution_count": null,
      "metadata": {
        "colab": {
          "base_uri": "https://localhost:8080/"
        },
        "id": "SURle7gzD8nv",
        "outputId": "2dc49d41-286b-4895-c5c0-dcafd0651631"
      },
      "outputs": [
        {
          "name": "stdout",
          "output_type": "stream",
          "text": [
            "[[ True False False]\n",
            " [ True  True  True]\n",
            " [False False False]]\n",
            "\n",
            "[[ True False False]\n",
            " [ True  True  True]\n",
            " [False False False]]\n"
          ]
        }
      ],
      "source": [
        "#Convert a binary numpy 2D array (containing only 0s and 1s) to a boolean numpy array\n",
        "a = np.array([[1, 0, 0],\n",
        "              [1, 1, 1],\n",
        "              [0, 0, 0]])\n",
        "\n",
        "o = a.astype('bool')\n",
        "a1 = np.array([[1, 0, 0],\n",
        "              [1, 1, 1],\n",
        "              [0, 0, 0]],dtype='bool')\n",
        "print(o)\n",
        "print()\n",
        "print(a1)"
      ]
    },
    {
      "cell_type": "code",
      "execution_count": null,
      "metadata": {
        "colab": {
          "base_uri": "https://localhost:8080/"
        },
        "id": "q1Rd8cesEjEi",
        "outputId": "1c57c3b6-1ba4-41ba-e99e-3536fc3305fb"
      },
      "outputs": [
        {
          "name": "stdout",
          "output_type": "stream",
          "text": [
            "[  0   2   4   6   8  10  12  14  16  18  20  22  24  26  28  30  32  34\n",
            "  36  38  40  42  44  46  48  50  52  54  56  58  60  62  64  66  68  70\n",
            "  72  74  76  78  80  82  84  86  88  90  92  94  96  98 100]\n",
            "[  0   2   4   6   8  10  12  14  16  18  20  22  24  26  28  30  32  34\n",
            "  36  38  40  42  44  46  48  50  52  54  56  58  60  62  64  66  68  70\n",
            "  72  74  76  78  80  82  84  86  88  90  92  94  96  98 100]\n"
          ]
        }
      ],
      "source": [
        "#Generate a sequence of numbers in the form of a numpy array from 0 to 100 with gaps of 2 numbers, for example: 0, 2, 4 ....\n",
        "o = np.arange(0, 101, 2)\n",
        "\n",
        "print(o)\n",
        "\n",
        "list_of_numbers = [x for x in range(0, 101, 2)]\n",
        "\n",
        "o = np.array(list_of_numbers)\n",
        "\n",
        "print(o)"
      ]
    },
    {
      "cell_type": "code",
      "execution_count": null,
      "metadata": {
        "colab": {
          "base_uri": "https://localhost:8080/"
        },
        "id": "J_3e6pXBEyOR",
        "outputId": "a363394f-e9f9-404b-d4e0-bfe1b6ac54bf"
      },
      "outputs": [
        {
          "name": "stdout",
          "output_type": "stream",
          "text": [
            "(array([1, 2], dtype=int64),)\n",
            "(array([0, 3, 4], dtype=int64),)\n"
          ]
        }
      ],
      "source": [
        "#Getting the positions (indexes) where elements of 2 numpy arrays match\n",
        "a = np.array([1,2,3,4,5])\n",
        "\n",
        "b = np.array([1,3,2,4,5])\n",
        "\n",
        "print(np.where(a != b))\n",
        "\n",
        "print(np.where(a == b))"
      ]
    },
    {
      "cell_type": "code",
      "execution_count": null,
      "metadata": {
        "colab": {
          "base_uri": "https://localhost:8080/"
        },
        "id": "caY_27WpE7q_",
        "outputId": "ceaf2a46-a361-4709-a2b6-94a5a633c7b8"
      },
      "outputs": [
        {
          "name": "stdout",
          "output_type": "stream",
          "text": [
            "[[5 2 7 1 2]\n",
            " [7 0 3 1 3]\n",
            " [4 9 5 5 9]\n",
            " [6 3 5 1 5]\n",
            " [4 9 7 9 2]]\n"
          ]
        }
      ],
      "source": [
        "#Output a 5-by-5 array of random integers between 0 (inclusive) and 10 (exclusive)\n",
        "o = np.random.randint(0, 10, size = (5,5))\n",
        "\n",
        "print(o)"
      ]
    },
    {
      "cell_type": "code",
      "execution_count": null,
      "metadata": {
        "colab": {
          "base_uri": "https://localhost:8080/"
        },
        "id": "0NCv_AqLFfXE",
        "outputId": "6269a466-80e8-4a2d-a8ed-e4672b58d546"
      },
      "outputs": [
        {
          "name": "stdout",
          "output_type": "stream",
          "text": [
            "[[1 4 7]\n",
            " [2 5 8]\n",
            " [3 6 9]]\n",
            "[[ 0.17647059 -0.00326797 -0.02287582]\n",
            " [ 0.05882353 -0.13071895  0.08496732]\n",
            " [-0.11764706  0.1503268   0.05228758]]\n"
          ]
        }
      ],
      "source": [
        "#Output the transpose of a matrix\n",
        "a = np.array([[1,2,3],\n",
        "              [4,5,6],\n",
        "              [7,8,9]])\n",
        "\n",
        "a_transpose = a.T\n",
        "\n",
        "print(a_transpose)\n",
        "A = np.array([[6, 1, 1],\n",
        "              [4, -2, 5],\n",
        "              [2, 8, 7]])\n",
        "\n",
        "# Calculating the inverse of the matrix\n",
        "print(np.linalg.inv(A))"
      ]
    },
    {
      "cell_type": "code",
      "execution_count": null,
      "metadata": {
        "colab": {
          "base_uri": "https://localhost:8080/"
        },
        "id": "bIhyPBh8GQYk",
        "outputId": "0034405e-6b15-4eb1-fe68-c3876f996409"
      },
      "outputs": [
        {
          "name": "stdout",
          "output_type": "stream",
          "text": [
            "[[ 1  2  3  4  5]\n",
            " [ 6  7  8  9 10]\n",
            " [11 12 13 14 15]\n",
            " [16 17 18 19 20]]\n",
            "True\n",
            "False\n",
            "False\n",
            "True\n"
          ]
        }
      ],
      "source": [
        "#Check whether a Numpy array contains a specified row\n",
        "import numpy\n",
        "\n",
        "# create numpy array\n",
        "arr = numpy.array([[1, 2, 3, 4, 5],\n",
        "                   [6, 7, 8, 9, 10],\n",
        "                   [11, 12, 13, 14, 15],\n",
        "                   [16, 17, 18, 19, 20]\n",
        "                   ])\n",
        "\n",
        "# view array\n",
        "print(arr)\n",
        "\n",
        "# check for some lists\n",
        "print([1, 2, 3, 4, 5] in arr.tolist())\n",
        "print([16, 17, 20, 19, 18] in arr.tolist())\n",
        "print([3, 2, 5, -4, 5] in arr.tolist())\n",
        "print([11, 12, 13, 14, 15] in arr.tolist())"
      ]
    },
    {
      "cell_type": "code",
      "execution_count": null,
      "metadata": {
        "colab": {
          "base_uri": "https://localhost:8080/"
        },
        "id": "mQzaKNcZGatw",
        "outputId": "65f55bb7-a84d-4dfb-8900-081b2bd5b73d"
      },
      "outputs": [
        {
          "name": "stdout",
          "output_type": "stream",
          "text": [
            "Given array:\n",
            "[[10.5  nan  3.8]\n",
            " [41.   nan  nan]]\n",
            "\n",
            "Remove all rows containing non-numeric elements\n",
            "[10.5  3.8 41. ]\n",
            "\n",
            "[nan nan nan]\n"
          ]
        }
      ],
      "source": [
        "# Creating 2X3 2-D Numpy array\n",
        "n_arr = np.array([[10.5, np.nan, 3.8],\n",
        "                  [41, np.nan, np.nan]])\n",
        "\n",
        "print(\"Given array:\")\n",
        "print(n_arr)\n",
        "\n",
        "print(\"\\nRemove all rows containing non-numeric elements\")\n",
        "print(n_arr[~np.isnan(n_arr)])\n",
        "print()\n",
        "print(n_arr[np.isnan(n_arr)])"
      ]
    },
    {
      "cell_type": "code",
      "execution_count": null,
      "metadata": {
        "colab": {
          "base_uri": "https://localhost:8080/"
        },
        "id": "_cDhGAwKfVsN",
        "outputId": "061523a9-5246-43cf-9e3d-c9a666768269"
      },
      "outputs": [
        {
          "name": "stdout",
          "output_type": "stream",
          "text": [
            "[False, False, True, True, True, False]\n",
            "[43 44 50]\n"
          ]
        }
      ],
      "source": [
        "#Create a filter array that will return only values higher than 42\n",
        "import numpy as np\n",
        "arr = np.array([41, 42, 43, 44,50,-50])\n",
        "\n",
        "# Create an empty list\n",
        "filter_arr = []\n",
        "\n",
        "# go through each element in arr\n",
        "for element in arr:\n",
        "  # if the element is higher than 42, set the value to True, otherwise False:\n",
        "  if element > 42:\n",
        "    filter_arr.append(True)\n",
        "  else:\n",
        "    filter_arr.append(False)\n",
        "\n",
        "newarr = arr[filter_arr]\n",
        "\n",
        "print(filter_arr)\n",
        "print(newarr)"
      ]
    },
    {
      "cell_type": "code",
      "execution_count": null,
      "metadata": {
        "id": "mp8B5XG-8v43"
      },
      "outputs": [],
      "source": []
    }
  ],
  "metadata": {
    "colab": {
      "provenance": []
    },
    "kernelspec": {
      "display_name": "Python 3 (ipykernel)",
      "language": "python",
      "name": "python3"
    },
    "language_info": {
      "codemirror_mode": {
        "name": "ipython",
        "version": 3
      },
      "file_extension": ".py",
      "mimetype": "text/x-python",
      "name": "python",
      "nbconvert_exporter": "python",
      "pygments_lexer": "ipython3",
      "version": "3.9.7"
    }
  },
  "nbformat": 4,
  "nbformat_minor": 0
}